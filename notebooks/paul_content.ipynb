{
 "cells": [
  {
   "cell_type": "code",
   "execution_count": 46,
   "id": "890b8bb5-b610-4630-bcf5-a21667a87e8f",
   "metadata": {},
   "outputs": [],
   "source": [
    "import pandas as pd\n",
    "import os\n",
    "from sklearn.preprocessing import MinMaxScaler\n",
    "from sklearn.metrics.pairwise import cosine_similarity, polynomial_kernel, sigmoid_kernel, rbf_kernel"
   ]
  },
  {
   "cell_type": "code",
   "execution_count": 2,
   "id": "17faee4c-af68-4a1f-9252-3f97000b359d",
   "metadata": {},
   "outputs": [],
   "source": [
    "data_path = os.path.join(os.path.dirname(os.getcwd()), 'raw_data/content_dataset.csv')"
   ]
  },
  {
   "cell_type": "code",
   "execution_count": 3,
   "id": "2eb514d3-3a19-4b0b-8c15-639418789024",
   "metadata": {},
   "outputs": [],
   "source": [
    "df = pd.read_csv(data_path, index_col = 0)"
   ]
  },
  {
   "cell_type": "code",
   "execution_count": 4,
   "id": "eb55ed9d-0b56-4326-a755-2daa19b6b2eb",
   "metadata": {},
   "outputs": [
    {
     "data": {
      "text/html": [
       "<div>\n",
       "<style scoped>\n",
       "    .dataframe tbody tr th:only-of-type {\n",
       "        vertical-align: middle;\n",
       "    }\n",
       "\n",
       "    .dataframe tbody tr th {\n",
       "        vertical-align: top;\n",
       "    }\n",
       "\n",
       "    .dataframe thead th {\n",
       "        text-align: right;\n",
       "    }\n",
       "</style>\n",
       "<table border=\"1\" class=\"dataframe\">\n",
       "  <thead>\n",
       "    <tr style=\"text-align: right;\">\n",
       "      <th></th>\n",
       "      <th>track_id</th>\n",
       "      <th>artists</th>\n",
       "      <th>album_name</th>\n",
       "      <th>track_name</th>\n",
       "      <th>popularity</th>\n",
       "      <th>duration_ms</th>\n",
       "      <th>explicit</th>\n",
       "      <th>danceability</th>\n",
       "      <th>energy</th>\n",
       "      <th>key</th>\n",
       "      <th>loudness</th>\n",
       "      <th>mode</th>\n",
       "      <th>speechiness</th>\n",
       "      <th>acousticness</th>\n",
       "      <th>instrumentalness</th>\n",
       "      <th>liveness</th>\n",
       "      <th>valence</th>\n",
       "      <th>tempo</th>\n",
       "      <th>time_signature</th>\n",
       "      <th>track_genre</th>\n",
       "    </tr>\n",
       "  </thead>\n",
       "  <tbody>\n",
       "    <tr>\n",
       "      <th>0</th>\n",
       "      <td>5SuOikwiRyPMVoIQDJUgSV</td>\n",
       "      <td>Gen Hoshino</td>\n",
       "      <td>Comedy</td>\n",
       "      <td>Comedy</td>\n",
       "      <td>73</td>\n",
       "      <td>230666</td>\n",
       "      <td>False</td>\n",
       "      <td>0.676</td>\n",
       "      <td>0.4610</td>\n",
       "      <td>1</td>\n",
       "      <td>-6.746</td>\n",
       "      <td>0</td>\n",
       "      <td>0.1430</td>\n",
       "      <td>0.0322</td>\n",
       "      <td>0.000001</td>\n",
       "      <td>0.3580</td>\n",
       "      <td>0.715</td>\n",
       "      <td>87.917</td>\n",
       "      <td>4</td>\n",
       "      <td>acoustic</td>\n",
       "    </tr>\n",
       "    <tr>\n",
       "      <th>1</th>\n",
       "      <td>4qPNDBW1i3p13qLCt0Ki3A</td>\n",
       "      <td>Ben Woodward</td>\n",
       "      <td>Ghost (Acoustic)</td>\n",
       "      <td>Ghost - Acoustic</td>\n",
       "      <td>55</td>\n",
       "      <td>149610</td>\n",
       "      <td>False</td>\n",
       "      <td>0.420</td>\n",
       "      <td>0.1660</td>\n",
       "      <td>1</td>\n",
       "      <td>-17.235</td>\n",
       "      <td>1</td>\n",
       "      <td>0.0763</td>\n",
       "      <td>0.9240</td>\n",
       "      <td>0.000006</td>\n",
       "      <td>0.1010</td>\n",
       "      <td>0.267</td>\n",
       "      <td>77.489</td>\n",
       "      <td>4</td>\n",
       "      <td>acoustic</td>\n",
       "    </tr>\n",
       "    <tr>\n",
       "      <th>2</th>\n",
       "      <td>1iJBSr7s7jYXzM8EGcbK5b</td>\n",
       "      <td>Ingrid Michaelson;ZAYN</td>\n",
       "      <td>To Begin Again</td>\n",
       "      <td>To Begin Again</td>\n",
       "      <td>57</td>\n",
       "      <td>210826</td>\n",
       "      <td>False</td>\n",
       "      <td>0.438</td>\n",
       "      <td>0.3590</td>\n",
       "      <td>0</td>\n",
       "      <td>-9.734</td>\n",
       "      <td>1</td>\n",
       "      <td>0.0557</td>\n",
       "      <td>0.2100</td>\n",
       "      <td>0.000000</td>\n",
       "      <td>0.1170</td>\n",
       "      <td>0.120</td>\n",
       "      <td>76.332</td>\n",
       "      <td>4</td>\n",
       "      <td>acoustic</td>\n",
       "    </tr>\n",
       "    <tr>\n",
       "      <th>3</th>\n",
       "      <td>6lfxq3CG4xtTiEg7opyCyx</td>\n",
       "      <td>Kina Grannis</td>\n",
       "      <td>Crazy Rich Asians (Original Motion Picture Sou...</td>\n",
       "      <td>Can't Help Falling In Love</td>\n",
       "      <td>71</td>\n",
       "      <td>201933</td>\n",
       "      <td>False</td>\n",
       "      <td>0.266</td>\n",
       "      <td>0.0596</td>\n",
       "      <td>0</td>\n",
       "      <td>-18.515</td>\n",
       "      <td>1</td>\n",
       "      <td>0.0363</td>\n",
       "      <td>0.9050</td>\n",
       "      <td>0.000071</td>\n",
       "      <td>0.1320</td>\n",
       "      <td>0.143</td>\n",
       "      <td>181.740</td>\n",
       "      <td>3</td>\n",
       "      <td>acoustic</td>\n",
       "    </tr>\n",
       "    <tr>\n",
       "      <th>4</th>\n",
       "      <td>5vjLSffimiIP26QG5WcN2K</td>\n",
       "      <td>Chord Overstreet</td>\n",
       "      <td>Hold On</td>\n",
       "      <td>Hold On</td>\n",
       "      <td>82</td>\n",
       "      <td>198853</td>\n",
       "      <td>False</td>\n",
       "      <td>0.618</td>\n",
       "      <td>0.4430</td>\n",
       "      <td>2</td>\n",
       "      <td>-9.681</td>\n",
       "      <td>1</td>\n",
       "      <td>0.0526</td>\n",
       "      <td>0.4690</td>\n",
       "      <td>0.000000</td>\n",
       "      <td>0.0829</td>\n",
       "      <td>0.167</td>\n",
       "      <td>119.949</td>\n",
       "      <td>4</td>\n",
       "      <td>acoustic</td>\n",
       "    </tr>\n",
       "  </tbody>\n",
       "</table>\n",
       "</div>"
      ],
      "text/plain": [
       "                 track_id                 artists  \\\n",
       "0  5SuOikwiRyPMVoIQDJUgSV             Gen Hoshino   \n",
       "1  4qPNDBW1i3p13qLCt0Ki3A            Ben Woodward   \n",
       "2  1iJBSr7s7jYXzM8EGcbK5b  Ingrid Michaelson;ZAYN   \n",
       "3  6lfxq3CG4xtTiEg7opyCyx            Kina Grannis   \n",
       "4  5vjLSffimiIP26QG5WcN2K        Chord Overstreet   \n",
       "\n",
       "                                          album_name  \\\n",
       "0                                             Comedy   \n",
       "1                                   Ghost (Acoustic)   \n",
       "2                                     To Begin Again   \n",
       "3  Crazy Rich Asians (Original Motion Picture Sou...   \n",
       "4                                            Hold On   \n",
       "\n",
       "                   track_name  popularity  duration_ms  explicit  \\\n",
       "0                      Comedy          73       230666     False   \n",
       "1            Ghost - Acoustic          55       149610     False   \n",
       "2              To Begin Again          57       210826     False   \n",
       "3  Can't Help Falling In Love          71       201933     False   \n",
       "4                     Hold On          82       198853     False   \n",
       "\n",
       "   danceability  energy  key  loudness  mode  speechiness  acousticness  \\\n",
       "0         0.676  0.4610    1    -6.746     0       0.1430        0.0322   \n",
       "1         0.420  0.1660    1   -17.235     1       0.0763        0.9240   \n",
       "2         0.438  0.3590    0    -9.734     1       0.0557        0.2100   \n",
       "3         0.266  0.0596    0   -18.515     1       0.0363        0.9050   \n",
       "4         0.618  0.4430    2    -9.681     1       0.0526        0.4690   \n",
       "\n",
       "   instrumentalness  liveness  valence    tempo  time_signature track_genre  \n",
       "0          0.000001    0.3580    0.715   87.917               4    acoustic  \n",
       "1          0.000006    0.1010    0.267   77.489               4    acoustic  \n",
       "2          0.000000    0.1170    0.120   76.332               4    acoustic  \n",
       "3          0.000071    0.1320    0.143  181.740               3    acoustic  \n",
       "4          0.000000    0.0829    0.167  119.949               4    acoustic  "
      ]
     },
     "execution_count": 4,
     "metadata": {},
     "output_type": "execute_result"
    }
   ],
   "source": [
    "df.head()"
   ]
  },
  {
   "cell_type": "markdown",
   "id": "02cc0f47",
   "metadata": {},
   "source": [
    "# Sebastian"
   ]
  },
  {
   "cell_type": "code",
   "execution_count": 5,
   "id": "8a70a5d3-2767-479f-973f-80144f2567aa",
   "metadata": {},
   "outputs": [
    {
     "data": {
      "text/plain": [
       "acoustic             1000\n",
       "punk-rock            1000\n",
       "progressive-house    1000\n",
       "power-pop            1000\n",
       "pop                  1000\n",
       "                     ... \n",
       "folk                 1000\n",
       "emo                  1000\n",
       "electronic           1000\n",
       "electro              1000\n",
       "world-music          1000\n",
       "Name: track_genre, Length: 114, dtype: int64"
      ]
     },
     "execution_count": 5,
     "metadata": {},
     "output_type": "execute_result"
    }
   ],
   "source": [
    "df['track_genre'].value_counts()"
   ]
  },
  {
   "cell_type": "code",
   "execution_count": 6,
   "id": "40b0fab0-2c84-4dc0-864b-39a0ac2ee6e0",
   "metadata": {
    "jupyter": {
     "outputs_hidden": true
    },
    "scrolled": true,
    "tags": []
   },
   "outputs": [
    {
     "data": {
      "text/html": [
       "<div>\n",
       "<style scoped>\n",
       "    .dataframe tbody tr th:only-of-type {\n",
       "        vertical-align: middle;\n",
       "    }\n",
       "\n",
       "    .dataframe tbody tr th {\n",
       "        vertical-align: top;\n",
       "    }\n",
       "\n",
       "    .dataframe thead th {\n",
       "        text-align: right;\n",
       "    }\n",
       "</style>\n",
       "<table border=\"1\" class=\"dataframe\">\n",
       "  <thead>\n",
       "    <tr style=\"text-align: right;\">\n",
       "      <th></th>\n",
       "      <th>track_id</th>\n",
       "      <th>artists</th>\n",
       "      <th>album_name</th>\n",
       "      <th>track_name</th>\n",
       "      <th>popularity</th>\n",
       "      <th>duration_ms</th>\n",
       "      <th>explicit</th>\n",
       "      <th>danceability</th>\n",
       "      <th>energy</th>\n",
       "      <th>key</th>\n",
       "      <th>loudness</th>\n",
       "      <th>mode</th>\n",
       "      <th>speechiness</th>\n",
       "      <th>acousticness</th>\n",
       "      <th>instrumentalness</th>\n",
       "      <th>liveness</th>\n",
       "      <th>valence</th>\n",
       "      <th>tempo</th>\n",
       "      <th>time_signature</th>\n",
       "      <th>track_genre</th>\n",
       "    </tr>\n",
       "  </thead>\n",
       "  <tbody>\n",
       "    <tr>\n",
       "      <th>15028</th>\n",
       "      <td>001APMDOl3qtx1526T11n1</td>\n",
       "      <td>Pink Sweat$;Kirby</td>\n",
       "      <td>New RnB</td>\n",
       "      <td>Better</td>\n",
       "      <td>0</td>\n",
       "      <td>176320</td>\n",
       "      <td>False</td>\n",
       "      <td>0.613</td>\n",
       "      <td>0.471</td>\n",
       "      <td>1</td>\n",
       "      <td>-6.644</td>\n",
       "      <td>0</td>\n",
       "      <td>0.1070</td>\n",
       "      <td>0.316000</td>\n",
       "      <td>0.000001</td>\n",
       "      <td>0.1170</td>\n",
       "      <td>0.406</td>\n",
       "      <td>143.064</td>\n",
       "      <td>4</td>\n",
       "      <td>chill</td>\n",
       "    </tr>\n",
       "    <tr>\n",
       "      <th>103211</th>\n",
       "      <td>001APMDOl3qtx1526T11n1</td>\n",
       "      <td>Pink Sweat$;Kirby</td>\n",
       "      <td>New RnB</td>\n",
       "      <td>Better</td>\n",
       "      <td>0</td>\n",
       "      <td>176320</td>\n",
       "      <td>False</td>\n",
       "      <td>0.613</td>\n",
       "      <td>0.471</td>\n",
       "      <td>1</td>\n",
       "      <td>-6.644</td>\n",
       "      <td>0</td>\n",
       "      <td>0.1070</td>\n",
       "      <td>0.316000</td>\n",
       "      <td>0.000001</td>\n",
       "      <td>0.1170</td>\n",
       "      <td>0.406</td>\n",
       "      <td>143.064</td>\n",
       "      <td>4</td>\n",
       "      <td>soul</td>\n",
       "    </tr>\n",
       "    <tr>\n",
       "      <th>85578</th>\n",
       "      <td>001YQlnDSduXd5LgBd66gT</td>\n",
       "      <td>Soda Stereo</td>\n",
       "      <td>Soda Stereo (Remastered)</td>\n",
       "      <td>El Tiempo Es Dinero - Remasterizado 2007</td>\n",
       "      <td>38</td>\n",
       "      <td>177266</td>\n",
       "      <td>False</td>\n",
       "      <td>0.554</td>\n",
       "      <td>0.921</td>\n",
       "      <td>2</td>\n",
       "      <td>-4.589</td>\n",
       "      <td>1</td>\n",
       "      <td>0.0758</td>\n",
       "      <td>0.019400</td>\n",
       "      <td>0.088100</td>\n",
       "      <td>0.3290</td>\n",
       "      <td>0.700</td>\n",
       "      <td>183.571</td>\n",
       "      <td>1</td>\n",
       "      <td>punk-rock</td>\n",
       "    </tr>\n",
       "    <tr>\n",
       "      <th>100420</th>\n",
       "      <td>001YQlnDSduXd5LgBd66gT</td>\n",
       "      <td>Soda Stereo</td>\n",
       "      <td>Soda Stereo (Remastered)</td>\n",
       "      <td>El Tiempo Es Dinero - Remasterizado 2007</td>\n",
       "      <td>38</td>\n",
       "      <td>177266</td>\n",
       "      <td>False</td>\n",
       "      <td>0.554</td>\n",
       "      <td>0.921</td>\n",
       "      <td>2</td>\n",
       "      <td>-4.589</td>\n",
       "      <td>1</td>\n",
       "      <td>0.0758</td>\n",
       "      <td>0.019400</td>\n",
       "      <td>0.088100</td>\n",
       "      <td>0.3290</td>\n",
       "      <td>0.700</td>\n",
       "      <td>183.571</td>\n",
       "      <td>1</td>\n",
       "      <td>ska</td>\n",
       "    </tr>\n",
       "    <tr>\n",
       "      <th>91801</th>\n",
       "      <td>003vvx7Niy0yvhvHt4a68B</td>\n",
       "      <td>The Killers</td>\n",
       "      <td>Hot Fuss</td>\n",
       "      <td>Mr. Brightside</td>\n",
       "      <td>86</td>\n",
       "      <td>222973</td>\n",
       "      <td>False</td>\n",
       "      <td>0.352</td>\n",
       "      <td>0.911</td>\n",
       "      <td>1</td>\n",
       "      <td>-5.230</td>\n",
       "      <td>1</td>\n",
       "      <td>0.0747</td>\n",
       "      <td>0.001210</td>\n",
       "      <td>0.000000</td>\n",
       "      <td>0.0995</td>\n",
       "      <td>0.236</td>\n",
       "      <td>148.033</td>\n",
       "      <td>4</td>\n",
       "      <td>rock</td>\n",
       "    </tr>\n",
       "    <tr>\n",
       "      <th>...</th>\n",
       "      <td>...</td>\n",
       "      <td>...</td>\n",
       "      <td>...</td>\n",
       "      <td>...</td>\n",
       "      <td>...</td>\n",
       "      <td>...</td>\n",
       "      <td>...</td>\n",
       "      <td>...</td>\n",
       "      <td>...</td>\n",
       "      <td>...</td>\n",
       "      <td>...</td>\n",
       "      <td>...</td>\n",
       "      <td>...</td>\n",
       "      <td>...</td>\n",
       "      <td>...</td>\n",
       "      <td>...</td>\n",
       "      <td>...</td>\n",
       "      <td>...</td>\n",
       "      <td>...</td>\n",
       "      <td>...</td>\n",
       "    </tr>\n",
       "    <tr>\n",
       "      <th>72679</th>\n",
       "      <td>7zv2vmZq8OjS54BxFzI2wM</td>\n",
       "      <td>Attila</td>\n",
       "      <td>Soundtrack to a Party (Bonus)</td>\n",
       "      <td>Lets Start the Party</td>\n",
       "      <td>25</td>\n",
       "      <td>125859</td>\n",
       "      <td>True</td>\n",
       "      <td>0.592</td>\n",
       "      <td>0.932</td>\n",
       "      <td>1</td>\n",
       "      <td>-5.412</td>\n",
       "      <td>1</td>\n",
       "      <td>0.0558</td>\n",
       "      <td>0.000005</td>\n",
       "      <td>0.859000</td>\n",
       "      <td>0.0730</td>\n",
       "      <td>0.677</td>\n",
       "      <td>133.987</td>\n",
       "      <td>4</td>\n",
       "      <td>metalcore</td>\n",
       "    </tr>\n",
       "    <tr>\n",
       "      <th>22326</th>\n",
       "      <td>7zv2vmZq8OjS54BxFzI2wM</td>\n",
       "      <td>Attila</td>\n",
       "      <td>Soundtrack to a Party (Bonus)</td>\n",
       "      <td>Lets Start the Party</td>\n",
       "      <td>25</td>\n",
       "      <td>125859</td>\n",
       "      <td>True</td>\n",
       "      <td>0.592</td>\n",
       "      <td>0.932</td>\n",
       "      <td>1</td>\n",
       "      <td>-5.412</td>\n",
       "      <td>1</td>\n",
       "      <td>0.0558</td>\n",
       "      <td>0.000005</td>\n",
       "      <td>0.859000</td>\n",
       "      <td>0.0730</td>\n",
       "      <td>0.677</td>\n",
       "      <td>133.987</td>\n",
       "      <td>4</td>\n",
       "      <td>death-metal</td>\n",
       "    </tr>\n",
       "    <tr>\n",
       "      <th>2004</th>\n",
       "      <td>7zwn1eykZtZ5LODrf7c0tS</td>\n",
       "      <td>The Neighbourhood</td>\n",
       "      <td>Hard To Imagine The Neighbourhood Ever Changing</td>\n",
       "      <td>You Get Me So High</td>\n",
       "      <td>83</td>\n",
       "      <td>153000</td>\n",
       "      <td>False</td>\n",
       "      <td>0.551</td>\n",
       "      <td>0.881</td>\n",
       "      <td>7</td>\n",
       "      <td>-6.099</td>\n",
       "      <td>0</td>\n",
       "      <td>0.0542</td>\n",
       "      <td>0.186000</td>\n",
       "      <td>0.079100</td>\n",
       "      <td>0.1520</td>\n",
       "      <td>0.387</td>\n",
       "      <td>88.036</td>\n",
       "      <td>4</td>\n",
       "      <td>alt-rock</td>\n",
       "    </tr>\n",
       "    <tr>\n",
       "      <th>3100</th>\n",
       "      <td>7zwn1eykZtZ5LODrf7c0tS</td>\n",
       "      <td>The Neighbourhood</td>\n",
       "      <td>Hard To Imagine The Neighbourhood Ever Changing</td>\n",
       "      <td>You Get Me So High</td>\n",
       "      <td>83</td>\n",
       "      <td>153000</td>\n",
       "      <td>False</td>\n",
       "      <td>0.551</td>\n",
       "      <td>0.881</td>\n",
       "      <td>7</td>\n",
       "      <td>-6.099</td>\n",
       "      <td>0</td>\n",
       "      <td>0.0542</td>\n",
       "      <td>0.186000</td>\n",
       "      <td>0.079100</td>\n",
       "      <td>0.1520</td>\n",
       "      <td>0.387</td>\n",
       "      <td>88.036</td>\n",
       "      <td>4</td>\n",
       "      <td>alternative</td>\n",
       "    </tr>\n",
       "    <tr>\n",
       "      <th>91401</th>\n",
       "      <td>7zwn1eykZtZ5LODrf7c0tS</td>\n",
       "      <td>The Neighbourhood</td>\n",
       "      <td>Hard To Imagine The Neighbourhood Ever Changing</td>\n",
       "      <td>You Get Me So High</td>\n",
       "      <td>83</td>\n",
       "      <td>153000</td>\n",
       "      <td>False</td>\n",
       "      <td>0.551</td>\n",
       "      <td>0.881</td>\n",
       "      <td>7</td>\n",
       "      <td>-6.099</td>\n",
       "      <td>0</td>\n",
       "      <td>0.0542</td>\n",
       "      <td>0.186000</td>\n",
       "      <td>0.079100</td>\n",
       "      <td>0.1520</td>\n",
       "      <td>0.387</td>\n",
       "      <td>88.036</td>\n",
       "      <td>4</td>\n",
       "      <td>rock</td>\n",
       "    </tr>\n",
       "  </tbody>\n",
       "</table>\n",
       "<p>40900 rows × 20 columns</p>\n",
       "</div>"
      ],
      "text/plain": [
       "                      track_id            artists  \\\n",
       "15028   001APMDOl3qtx1526T11n1  Pink Sweat$;Kirby   \n",
       "103211  001APMDOl3qtx1526T11n1  Pink Sweat$;Kirby   \n",
       "85578   001YQlnDSduXd5LgBd66gT        Soda Stereo   \n",
       "100420  001YQlnDSduXd5LgBd66gT        Soda Stereo   \n",
       "91801   003vvx7Niy0yvhvHt4a68B        The Killers   \n",
       "...                        ...                ...   \n",
       "72679   7zv2vmZq8OjS54BxFzI2wM             Attila   \n",
       "22326   7zv2vmZq8OjS54BxFzI2wM             Attila   \n",
       "2004    7zwn1eykZtZ5LODrf7c0tS  The Neighbourhood   \n",
       "3100    7zwn1eykZtZ5LODrf7c0tS  The Neighbourhood   \n",
       "91401   7zwn1eykZtZ5LODrf7c0tS  The Neighbourhood   \n",
       "\n",
       "                                             album_name  \\\n",
       "15028                                           New RnB   \n",
       "103211                                          New RnB   \n",
       "85578                          Soda Stereo (Remastered)   \n",
       "100420                         Soda Stereo (Remastered)   \n",
       "91801                                          Hot Fuss   \n",
       "...                                                 ...   \n",
       "72679                     Soundtrack to a Party (Bonus)   \n",
       "22326                     Soundtrack to a Party (Bonus)   \n",
       "2004    Hard To Imagine The Neighbourhood Ever Changing   \n",
       "3100    Hard To Imagine The Neighbourhood Ever Changing   \n",
       "91401   Hard To Imagine The Neighbourhood Ever Changing   \n",
       "\n",
       "                                      track_name  popularity  duration_ms  \\\n",
       "15028                                     Better           0       176320   \n",
       "103211                                    Better           0       176320   \n",
       "85578   El Tiempo Es Dinero - Remasterizado 2007          38       177266   \n",
       "100420  El Tiempo Es Dinero - Remasterizado 2007          38       177266   \n",
       "91801                             Mr. Brightside          86       222973   \n",
       "...                                          ...         ...          ...   \n",
       "72679                       Lets Start the Party          25       125859   \n",
       "22326                       Lets Start the Party          25       125859   \n",
       "2004                          You Get Me So High          83       153000   \n",
       "3100                          You Get Me So High          83       153000   \n",
       "91401                         You Get Me So High          83       153000   \n",
       "\n",
       "        explicit  danceability  energy  key  loudness  mode  speechiness  \\\n",
       "15028      False         0.613   0.471    1    -6.644     0       0.1070   \n",
       "103211     False         0.613   0.471    1    -6.644     0       0.1070   \n",
       "85578      False         0.554   0.921    2    -4.589     1       0.0758   \n",
       "100420     False         0.554   0.921    2    -4.589     1       0.0758   \n",
       "91801      False         0.352   0.911    1    -5.230     1       0.0747   \n",
       "...          ...           ...     ...  ...       ...   ...          ...   \n",
       "72679       True         0.592   0.932    1    -5.412     1       0.0558   \n",
       "22326       True         0.592   0.932    1    -5.412     1       0.0558   \n",
       "2004       False         0.551   0.881    7    -6.099     0       0.0542   \n",
       "3100       False         0.551   0.881    7    -6.099     0       0.0542   \n",
       "91401      False         0.551   0.881    7    -6.099     0       0.0542   \n",
       "\n",
       "        acousticness  instrumentalness  liveness  valence    tempo  \\\n",
       "15028       0.316000          0.000001    0.1170    0.406  143.064   \n",
       "103211      0.316000          0.000001    0.1170    0.406  143.064   \n",
       "85578       0.019400          0.088100    0.3290    0.700  183.571   \n",
       "100420      0.019400          0.088100    0.3290    0.700  183.571   \n",
       "91801       0.001210          0.000000    0.0995    0.236  148.033   \n",
       "...              ...               ...       ...      ...      ...   \n",
       "72679       0.000005          0.859000    0.0730    0.677  133.987   \n",
       "22326       0.000005          0.859000    0.0730    0.677  133.987   \n",
       "2004        0.186000          0.079100    0.1520    0.387   88.036   \n",
       "3100        0.186000          0.079100    0.1520    0.387   88.036   \n",
       "91401       0.186000          0.079100    0.1520    0.387   88.036   \n",
       "\n",
       "        time_signature  track_genre  \n",
       "15028                4        chill  \n",
       "103211               4         soul  \n",
       "85578                1    punk-rock  \n",
       "100420               1          ska  \n",
       "91801                4         rock  \n",
       "...                ...          ...  \n",
       "72679                4    metalcore  \n",
       "22326                4  death-metal  \n",
       "2004                 4     alt-rock  \n",
       "3100                 4  alternative  \n",
       "91401                4         rock  \n",
       "\n",
       "[40900 rows x 20 columns]"
      ]
     },
     "execution_count": 6,
     "metadata": {},
     "output_type": "execute_result"
    }
   ],
   "source": [
    "df.loc[df.duplicated('track_id', keep = False)].sort_values('track_id')"
   ]
  },
  {
   "cell_type": "code",
   "execution_count": 7,
   "id": "acb09ac2-b6ae-4950-8c56-45f7c8ab9011",
   "metadata": {},
   "outputs": [],
   "source": [
    "genres = df.groupby('track_id').agg({'track_genre' : list})"
   ]
  },
  {
   "cell_type": "code",
   "execution_count": 8,
   "id": "9c5e6233-4194-40ee-9cec-552618a08bb1",
   "metadata": {},
   "outputs": [
    {
     "data": {
      "text/plain": [
       "1    73100\n",
       "2    11712\n",
       "3     2984\n",
       "4     1372\n",
       "5      431\n",
       "6      117\n",
       "7       22\n",
       "8        2\n",
       "9        1\n",
       "Name: track_genre, dtype: int64"
      ]
     },
     "execution_count": 8,
     "metadata": {},
     "output_type": "execute_result"
    }
   ],
   "source": [
    "genres['track_genre'].apply(lambda x: len(x)).value_counts()"
   ]
  },
  {
   "cell_type": "code",
   "execution_count": 9,
   "id": "c5ea7ce6-03a5-46cf-b19b-ffd3db962d13",
   "metadata": {},
   "outputs": [],
   "source": [
    "df = df.drop_duplicates(subset = 'track_id')"
   ]
  },
  {
   "cell_type": "code",
   "execution_count": 10,
   "id": "ac795ec2-904e-4a4d-935c-54c8f4a758c9",
   "metadata": {},
   "outputs": [],
   "source": [
    "df = df.drop(columns = 'track_genre')"
   ]
  },
  {
   "cell_type": "code",
   "execution_count": 11,
   "id": "f9454b58-65c4-4796-b323-f101e70f43cf",
   "metadata": {},
   "outputs": [],
   "source": [
    "df = pd.merge(left = df, right = genres, on= 'track_id')"
   ]
  },
  {
   "cell_type": "code",
   "execution_count": 17,
   "id": "5e95020d-4ce3-49b3-a4d6-f13879767cea",
   "metadata": {},
   "outputs": [
    {
     "data": {
      "text/plain": [
       "['track_id',\n",
       " 'artists',\n",
       " 'album_name',\n",
       " 'track_name',\n",
       " 'popularity',\n",
       " 'duration_ms',\n",
       " 'explicit',\n",
       " 'danceability',\n",
       " 'energy',\n",
       " 'key',\n",
       " 'loudness',\n",
       " 'mode',\n",
       " 'speechiness',\n",
       " 'acousticness',\n",
       " 'instrumentalness',\n",
       " 'liveness',\n",
       " 'valence',\n",
       " 'tempo',\n",
       " 'time_signature',\n",
       " 'track_genre']"
      ]
     },
     "execution_count": 17,
     "metadata": {},
     "output_type": "execute_result"
    }
   ],
   "source": [
    "df.columns.to_list()"
   ]
  },
  {
   "cell_type": "markdown",
   "id": "99669f21-55e3-440c-833c-4fb2cb6aca26",
   "metadata": {
    "tags": []
   },
   "source": [
    "# Ab hier Paul"
   ]
  },
  {
   "cell_type": "markdown",
   "id": "4b492499",
   "metadata": {
    "heading_collapsed": true
   },
   "source": [
    "## Scaling"
   ]
  },
  {
   "cell_type": "code",
   "execution_count": 18,
   "id": "bc679d2b-09bf-4a53-b378-c556d30e5cea",
   "metadata": {
    "hidden": true
   },
   "outputs": [],
   "source": [
    "audio_feats = [\n",
    "     'popularity',\n",
    "     'duration_ms',\n",
    "     'explicit',\n",
    "     'danceability',\n",
    "     'energy',\n",
    "     'key',\n",
    "     'loudness',\n",
    "     'mode',\n",
    "     'speechiness',\n",
    "     'acousticness',\n",
    "     'instrumentalness',\n",
    "     'liveness',\n",
    "     'valence',\n",
    "     'tempo'\n",
    "]"
   ]
  },
  {
   "cell_type": "code",
   "execution_count": 19,
   "id": "09fe777d-02a4-45f8-9406-96bc8d442545",
   "metadata": {
    "hidden": true
   },
   "outputs": [],
   "source": [
    "scaler = MinMaxScaler()"
   ]
  },
  {
   "cell_type": "code",
   "execution_count": 20,
   "id": "6fc56b42-4577-4bd2-81fa-37eab9542c20",
   "metadata": {
    "hidden": true
   },
   "outputs": [],
   "source": [
    "df_audio = df.loc[:, audio_feats]"
   ]
  },
  {
   "cell_type": "code",
   "execution_count": 21,
   "id": "b75aa0ac-f969-4f3f-b8bd-4107525504f8",
   "metadata": {
    "hidden": true
   },
   "outputs": [],
   "source": [
    "df_audio_scaled = pd.DataFrame(scaler.fit_transform(df_audio), columns = df_audio.columns)"
   ]
  },
  {
   "cell_type": "code",
   "execution_count": 22,
   "id": "9e5ad675-db61-49b1-be3b-8a6f86d98275",
   "metadata": {
    "hidden": true
   },
   "outputs": [],
   "source": [
    "df_audio_scaled = df_audio_scaled.set_index(df['track_id'])"
   ]
  },
  {
   "cell_type": "markdown",
   "id": "3ba67afc",
   "metadata": {},
   "source": [
    "## Testing Similarity Metrics (Pairwise distances)"
   ]
  },
  {
   "cell_type": "code",
   "execution_count": 23,
   "id": "acb8a8d8",
   "metadata": {},
   "outputs": [
    {
     "data": {
      "text/html": [
       "<div>\n",
       "<style scoped>\n",
       "    .dataframe tbody tr th:only-of-type {\n",
       "        vertical-align: middle;\n",
       "    }\n",
       "\n",
       "    .dataframe tbody tr th {\n",
       "        vertical-align: top;\n",
       "    }\n",
       "\n",
       "    .dataframe thead th {\n",
       "        text-align: right;\n",
       "    }\n",
       "</style>\n",
       "<table border=\"1\" class=\"dataframe\">\n",
       "  <thead>\n",
       "    <tr style=\"text-align: right;\">\n",
       "      <th></th>\n",
       "      <th>popularity</th>\n",
       "      <th>duration_ms</th>\n",
       "      <th>explicit</th>\n",
       "      <th>danceability</th>\n",
       "      <th>energy</th>\n",
       "      <th>key</th>\n",
       "      <th>loudness</th>\n",
       "      <th>mode</th>\n",
       "      <th>speechiness</th>\n",
       "      <th>acousticness</th>\n",
       "      <th>instrumentalness</th>\n",
       "      <th>liveness</th>\n",
       "      <th>valence</th>\n",
       "      <th>tempo</th>\n",
       "    </tr>\n",
       "    <tr>\n",
       "      <th>track_id</th>\n",
       "      <th></th>\n",
       "      <th></th>\n",
       "      <th></th>\n",
       "      <th></th>\n",
       "      <th></th>\n",
       "      <th></th>\n",
       "      <th></th>\n",
       "      <th></th>\n",
       "      <th></th>\n",
       "      <th></th>\n",
       "      <th></th>\n",
       "      <th></th>\n",
       "      <th></th>\n",
       "      <th></th>\n",
       "    </tr>\n",
       "  </thead>\n",
       "  <tbody>\n",
       "    <tr>\n",
       "      <th>5SuOikwiRyPMVoIQDJUgSV</th>\n",
       "      <td>0.73</td>\n",
       "      <td>0.044043</td>\n",
       "      <td>0.0</td>\n",
       "      <td>0.686294</td>\n",
       "      <td>0.4610</td>\n",
       "      <td>0.090909</td>\n",
       "      <td>0.791392</td>\n",
       "      <td>0.0</td>\n",
       "      <td>0.148187</td>\n",
       "      <td>0.032329</td>\n",
       "      <td>0.000001</td>\n",
       "      <td>0.3580</td>\n",
       "      <td>0.718593</td>\n",
       "      <td>0.361245</td>\n",
       "    </tr>\n",
       "    <tr>\n",
       "      <th>4qPNDBW1i3p13qLCt0Ki3A</th>\n",
       "      <td>0.55</td>\n",
       "      <td>0.028566</td>\n",
       "      <td>0.0</td>\n",
       "      <td>0.426396</td>\n",
       "      <td>0.1660</td>\n",
       "      <td>0.090909</td>\n",
       "      <td>0.597377</td>\n",
       "      <td>1.0</td>\n",
       "      <td>0.079067</td>\n",
       "      <td>0.927711</td>\n",
       "      <td>0.000006</td>\n",
       "      <td>0.1010</td>\n",
       "      <td>0.268342</td>\n",
       "      <td>0.318397</td>\n",
       "    </tr>\n",
       "    <tr>\n",
       "      <th>1iJBSr7s7jYXzM8EGcbK5b</th>\n",
       "      <td>0.57</td>\n",
       "      <td>0.040255</td>\n",
       "      <td>0.0</td>\n",
       "      <td>0.444670</td>\n",
       "      <td>0.3590</td>\n",
       "      <td>0.000000</td>\n",
       "      <td>0.736123</td>\n",
       "      <td>1.0</td>\n",
       "      <td>0.057720</td>\n",
       "      <td>0.210843</td>\n",
       "      <td>0.000000</td>\n",
       "      <td>0.1170</td>\n",
       "      <td>0.120603</td>\n",
       "      <td>0.313643</td>\n",
       "    </tr>\n",
       "    <tr>\n",
       "      <th>6lfxq3CG4xtTiEg7opyCyx</th>\n",
       "      <td>0.71</td>\n",
       "      <td>0.038557</td>\n",
       "      <td>0.0</td>\n",
       "      <td>0.270051</td>\n",
       "      <td>0.0596</td>\n",
       "      <td>0.000000</td>\n",
       "      <td>0.573701</td>\n",
       "      <td>1.0</td>\n",
       "      <td>0.037617</td>\n",
       "      <td>0.908635</td>\n",
       "      <td>0.000071</td>\n",
       "      <td>0.1320</td>\n",
       "      <td>0.143719</td>\n",
       "      <td>0.746758</td>\n",
       "    </tr>\n",
       "    <tr>\n",
       "      <th>5vjLSffimiIP26QG5WcN2K</th>\n",
       "      <td>0.82</td>\n",
       "      <td>0.037969</td>\n",
       "      <td>0.0</td>\n",
       "      <td>0.627411</td>\n",
       "      <td>0.4430</td>\n",
       "      <td>0.181818</td>\n",
       "      <td>0.737103</td>\n",
       "      <td>1.0</td>\n",
       "      <td>0.054508</td>\n",
       "      <td>0.470884</td>\n",
       "      <td>0.000000</td>\n",
       "      <td>0.0829</td>\n",
       "      <td>0.167839</td>\n",
       "      <td>0.492863</td>\n",
       "    </tr>\n",
       "  </tbody>\n",
       "</table>\n",
       "</div>"
      ],
      "text/plain": [
       "                        popularity  duration_ms  explicit  danceability  \\\n",
       "track_id                                                                  \n",
       "5SuOikwiRyPMVoIQDJUgSV        0.73     0.044043       0.0      0.686294   \n",
       "4qPNDBW1i3p13qLCt0Ki3A        0.55     0.028566       0.0      0.426396   \n",
       "1iJBSr7s7jYXzM8EGcbK5b        0.57     0.040255       0.0      0.444670   \n",
       "6lfxq3CG4xtTiEg7opyCyx        0.71     0.038557       0.0      0.270051   \n",
       "5vjLSffimiIP26QG5WcN2K        0.82     0.037969       0.0      0.627411   \n",
       "\n",
       "                        energy       key  loudness  mode  speechiness  \\\n",
       "track_id                                                                \n",
       "5SuOikwiRyPMVoIQDJUgSV  0.4610  0.090909  0.791392   0.0     0.148187   \n",
       "4qPNDBW1i3p13qLCt0Ki3A  0.1660  0.090909  0.597377   1.0     0.079067   \n",
       "1iJBSr7s7jYXzM8EGcbK5b  0.3590  0.000000  0.736123   1.0     0.057720   \n",
       "6lfxq3CG4xtTiEg7opyCyx  0.0596  0.000000  0.573701   1.0     0.037617   \n",
       "5vjLSffimiIP26QG5WcN2K  0.4430  0.181818  0.737103   1.0     0.054508   \n",
       "\n",
       "                        acousticness  instrumentalness  liveness   valence  \\\n",
       "track_id                                                                     \n",
       "5SuOikwiRyPMVoIQDJUgSV      0.032329          0.000001    0.3580  0.718593   \n",
       "4qPNDBW1i3p13qLCt0Ki3A      0.927711          0.000006    0.1010  0.268342   \n",
       "1iJBSr7s7jYXzM8EGcbK5b      0.210843          0.000000    0.1170  0.120603   \n",
       "6lfxq3CG4xtTiEg7opyCyx      0.908635          0.000071    0.1320  0.143719   \n",
       "5vjLSffimiIP26QG5WcN2K      0.470884          0.000000    0.0829  0.167839   \n",
       "\n",
       "                           tempo  \n",
       "track_id                          \n",
       "5SuOikwiRyPMVoIQDJUgSV  0.361245  \n",
       "4qPNDBW1i3p13qLCt0Ki3A  0.318397  \n",
       "1iJBSr7s7jYXzM8EGcbK5b  0.313643  \n",
       "6lfxq3CG4xtTiEg7opyCyx  0.746758  \n",
       "5vjLSffimiIP26QG5WcN2K  0.492863  "
      ]
     },
     "execution_count": 23,
     "metadata": {},
     "output_type": "execute_result"
    }
   ],
   "source": [
    "df_audio_scaled.head()"
   ]
  },
  {
   "cell_type": "markdown",
   "id": "8d498dba-c97d-43a7-ab62-ee4277f5f9e9",
   "metadata": {},
   "source": [
    "### Cosine Similarity"
   ]
  },
  {
   "cell_type": "markdown",
   "id": "7377d3ff",
   "metadata": {},
   "source": [
    "Checking Cosine Similarity between first and second song in df (Higher Recom for higher similarity)"
   ]
  },
  {
   "cell_type": "code",
   "execution_count": 55,
   "id": "ed4def1d-63c0-4b43-8468-ecd309c168dc",
   "metadata": {},
   "outputs": [
    {
     "data": {
      "text/plain": [
       "array([[1.]])"
      ]
     },
     "execution_count": 55,
     "metadata": {},
     "output_type": "execute_result"
    }
   ],
   "source": [
    "cosine_similarity(X = df_audio_scaled.iloc[[0]], Y = df_audio_scaled.iloc[[0]])"
   ]
  },
  {
   "cell_type": "markdown",
   "id": "6fbc6c03",
   "metadata": {},
   "source": [
    "Cosine similarity computes the L2-normalized dot product of vectors. Because Euclidean (L2) normalization projects the vectors onto the unit sphere, their dot product is then the cosine of the angle between the points denoted by the vectors."
   ]
  },
  {
   "cell_type": "markdown",
   "id": "0407bd1e",
   "metadata": {},
   "source": [
    "-> The closer the Cosine to 1, the more similar (linear)"
   ]
  },
  {
   "cell_type": "markdown",
   "id": "ee928915",
   "metadata": {},
   "source": [
    "### Polynomial Kernel"
   ]
  },
  {
   "cell_type": "markdown",
   "id": "9471c8c9",
   "metadata": {},
   "source": [
    "Conceptually, the polynomial kernels considers not only the similarity between vectors under the same dimension, but also across dimensions. When used in machine learning algorithms, this allows to account for feature interaction."
   ]
  },
  {
   "cell_type": "code",
   "execution_count": 58,
   "id": "55112efa",
   "metadata": {},
   "outputs": [
    {
     "data": {
      "text/plain": [
       "array([[1.68241981]])"
      ]
     },
     "execution_count": 58,
     "metadata": {},
     "output_type": "execute_result"
    }
   ],
   "source": [
    "polynomial_kernel(X = df_audio_scaled.iloc[[0]], Y = df_audio_scaled.iloc[[0]], degree=3)"
   ]
  },
  {
   "cell_type": "markdown",
   "id": "46c6d5b6",
   "metadata": {},
   "source": [
    "-> Useful for non linear interactions "
   ]
  },
  {
   "cell_type": "markdown",
   "id": "a6881cf2",
   "metadata": {},
   "source": [
    "### Sigmoid Kernel"
   ]
  },
  {
   "cell_type": "code",
   "execution_count": 53,
   "id": "13f56f75",
   "metadata": {},
   "outputs": [
    {
     "data": {
      "text/plain": [
       "array([[0.80653926]])"
      ]
     },
     "execution_count": 53,
     "metadata": {},
     "output_type": "execute_result"
    }
   ],
   "source": [
    "sigmoid_kernel(X = df_audio_scaled.iloc[[0]], Y = df_audio_scaled.iloc[[1]])"
   ]
  },
  {
   "cell_type": "markdown",
   "id": "d7c32953",
   "metadata": {},
   "source": [
    "-> Will find recom very centered around input song (at the tails), and ignores sharp changes in the middle"
   ]
  },
  {
   "cell_type": "markdown",
   "id": "39c79dd8",
   "metadata": {},
   "source": [
    "### RBF Kernel"
   ]
  },
  {
   "cell_type": "code",
   "execution_count": 54,
   "id": "b6777a9a",
   "metadata": {},
   "outputs": [
    {
     "data": {
      "text/plain": [
       "array([[0.84838138]])"
      ]
     },
     "execution_count": 54,
     "metadata": {},
     "output_type": "execute_result"
    }
   ],
   "source": [
    "rbf_kernel(X = df_audio_scaled.iloc[[0]], Y = df_audio_scaled.iloc[[1]])"
   ]
  },
  {
   "cell_type": "markdown",
   "id": "5550bec3",
   "metadata": {},
   "source": [
    "-> relies on Gaussian distribution to find similarities, (connect with Recommendations found)"
   ]
  }
 ],
 "metadata": {
  "kernelspec": {
   "display_name": "Python 3 (ipykernel)",
   "language": "python",
   "name": "python3"
  },
  "language_info": {
   "codemirror_mode": {
    "name": "ipython",
    "version": 3
   },
   "file_extension": ".py",
   "mimetype": "text/x-python",
   "name": "python",
   "nbconvert_exporter": "python",
   "pygments_lexer": "ipython3",
   "version": "3.10.6"
  },
  "toc": {
   "base_numbering": 1,
   "nav_menu": {},
   "number_sections": true,
   "sideBar": true,
   "skip_h1_title": false,
   "title_cell": "Table of Contents",
   "title_sidebar": "Contents",
   "toc_cell": false,
   "toc_position": {},
   "toc_section_display": true,
   "toc_window_display": false
  }
 },
 "nbformat": 4,
 "nbformat_minor": 5
}
