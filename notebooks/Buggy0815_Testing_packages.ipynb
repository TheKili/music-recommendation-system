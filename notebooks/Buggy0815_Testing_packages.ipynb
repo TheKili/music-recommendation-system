{
 "cells": [
  {
   "cell_type": "code",
   "execution_count": 46,
   "id": "c53a875d-b2da-46a1-87a8-08aba022c4cd",
   "metadata": {},
   "outputs": [
    {
     "name": "stdout",
     "output_type": "stream",
     "text": [
      "The autoreload extension is already loaded. To reload it, use:\n",
      "  %reload_ext autoreload\n"
     ]
    }
   ],
   "source": [
    "%load_ext autoreload\n",
    "%autoreload 2\n",
    "import pandas as pd\n",
    "import os\n",
    "from sklearn.preprocessing import MinMaxScaler\n",
    "from sklearn.metrics.pairwise import cosine_similarity\n",
    "from sklearn.base import BaseEstimator, TransformerMixin\n",
    "from sklearn.feature_extraction.text import CountVectorizer\n",
    "import sys\n",
    "import os"
   ]
  },
  {
   "cell_type": "code",
   "execution_count": 47,
   "id": "1e412454-80b9-4906-950b-dd1a46bfa19b",
   "metadata": {},
   "outputs": [],
   "source": [
    "# Get the parent directory path\n",
    "parent_dir = os.path.dirname(os.path.abspath(''))\n",
    "# Add the parent directory to sys.path\n",
    "sys.path.append(parent_dir)"
   ]
  },
  {
   "cell_type": "code",
   "execution_count": 48,
   "id": "93275711-f2e3-43fa-8c84-e62a0c689293",
   "metadata": {},
   "outputs": [
    {
     "data": {
      "text/plain": [
       "'/home/buggy0815/code/TheKili/music-recommendation-system'"
      ]
     },
     "execution_count": 48,
     "metadata": {},
     "output_type": "execute_result"
    }
   ],
   "source": [
    "parent_dir"
   ]
  },
  {
   "cell_type": "code",
   "execution_count": 49,
   "id": "df356409-a61f-4603-92a2-8a6a05e0f9a9",
   "metadata": {},
   "outputs": [],
   "source": [
    "from recommender.data_preprocessing import drop_duplicated, genre_vectorizer\n",
    "from recommender.memory_based import get_recommendations\n",
    "from recommender.utils_spotify import get_track_info\n",
    "from recommender.data_preprocessing import Genre_vec"
   ]
  },
  {
   "cell_type": "code",
   "execution_count": 50,
   "id": "25bf64d1-caae-4e9f-947f-2a06874a4b50",
   "metadata": {},
   "outputs": [],
   "source": [
    "data_path = os.path.join(os.path.dirname(os.getcwd()), 'raw_data/dataset.csv')\n",
    "df = pd.read_csv(data_path, index_col = 0)"
   ]
  },
  {
   "cell_type": "code",
   "execution_count": 51,
   "id": "0e9fb1f3-2e0c-47a0-9db3-42cb2ddbd209",
   "metadata": {},
   "outputs": [],
   "source": [
    "df = drop_duplicated(df)"
   ]
  },
  {
   "cell_type": "code",
   "execution_count": 52,
   "id": "b9799b48-dd36-46bf-9f6f-b16c0fbf57c6",
   "metadata": {},
   "outputs": [],
   "source": [
    "gv = Genre_vec()"
   ]
  },
  {
   "cell_type": "code",
   "execution_count": 53,
   "id": "9dfb6db3-6a15-4e09-908e-2f8719e1da8d",
   "metadata": {},
   "outputs": [
    {
     "data": {
      "text/html": [
       "<style>#sk-container-id-9 {color: black;background-color: white;}#sk-container-id-9 pre{padding: 0;}#sk-container-id-9 div.sk-toggleable {background-color: white;}#sk-container-id-9 label.sk-toggleable__label {cursor: pointer;display: block;width: 100%;margin-bottom: 0;padding: 0.3em;box-sizing: border-box;text-align: center;}#sk-container-id-9 label.sk-toggleable__label-arrow:before {content: \"▸\";float: left;margin-right: 0.25em;color: #696969;}#sk-container-id-9 label.sk-toggleable__label-arrow:hover:before {color: black;}#sk-container-id-9 div.sk-estimator:hover label.sk-toggleable__label-arrow:before {color: black;}#sk-container-id-9 div.sk-toggleable__content {max-height: 0;max-width: 0;overflow: hidden;text-align: left;background-color: #f0f8ff;}#sk-container-id-9 div.sk-toggleable__content pre {margin: 0.2em;color: black;border-radius: 0.25em;background-color: #f0f8ff;}#sk-container-id-9 input.sk-toggleable__control:checked~div.sk-toggleable__content {max-height: 200px;max-width: 100%;overflow: auto;}#sk-container-id-9 input.sk-toggleable__control:checked~label.sk-toggleable__label-arrow:before {content: \"▾\";}#sk-container-id-9 div.sk-estimator input.sk-toggleable__control:checked~label.sk-toggleable__label {background-color: #d4ebff;}#sk-container-id-9 div.sk-label input.sk-toggleable__control:checked~label.sk-toggleable__label {background-color: #d4ebff;}#sk-container-id-9 input.sk-hidden--visually {border: 0;clip: rect(1px 1px 1px 1px);clip: rect(1px, 1px, 1px, 1px);height: 1px;margin: -1px;overflow: hidden;padding: 0;position: absolute;width: 1px;}#sk-container-id-9 div.sk-estimator {font-family: monospace;background-color: #f0f8ff;border: 1px dotted black;border-radius: 0.25em;box-sizing: border-box;margin-bottom: 0.5em;}#sk-container-id-9 div.sk-estimator:hover {background-color: #d4ebff;}#sk-container-id-9 div.sk-parallel-item::after {content: \"\";width: 100%;border-bottom: 1px solid gray;flex-grow: 1;}#sk-container-id-9 div.sk-label:hover label.sk-toggleable__label {background-color: #d4ebff;}#sk-container-id-9 div.sk-serial::before {content: \"\";position: absolute;border-left: 1px solid gray;box-sizing: border-box;top: 0;bottom: 0;left: 50%;z-index: 0;}#sk-container-id-9 div.sk-serial {display: flex;flex-direction: column;align-items: center;background-color: white;padding-right: 0.2em;padding-left: 0.2em;position: relative;}#sk-container-id-9 div.sk-item {position: relative;z-index: 1;}#sk-container-id-9 div.sk-parallel {display: flex;align-items: stretch;justify-content: center;background-color: white;position: relative;}#sk-container-id-9 div.sk-item::before, #sk-container-id-9 div.sk-parallel-item::before {content: \"\";position: absolute;border-left: 1px solid gray;box-sizing: border-box;top: 0;bottom: 0;left: 50%;z-index: -1;}#sk-container-id-9 div.sk-parallel-item {display: flex;flex-direction: column;z-index: 1;position: relative;background-color: white;}#sk-container-id-9 div.sk-parallel-item:first-child::after {align-self: flex-end;width: 50%;}#sk-container-id-9 div.sk-parallel-item:last-child::after {align-self: flex-start;width: 50%;}#sk-container-id-9 div.sk-parallel-item:only-child::after {width: 0;}#sk-container-id-9 div.sk-dashed-wrapped {border: 1px dashed gray;margin: 0 0.4em 0.5em 0.4em;box-sizing: border-box;padding-bottom: 0.4em;background-color: white;}#sk-container-id-9 div.sk-label label {font-family: monospace;font-weight: bold;display: inline-block;line-height: 1.2em;}#sk-container-id-9 div.sk-label-container {text-align: center;}#sk-container-id-9 div.sk-container {/* jupyter's `normalize.less` sets `[hidden] { display: none; }` but bootstrap.min.css set `[hidden] { display: none !important; }` so we also need the `!important` here to be able to override the default hidden behavior on the sphinx rendered scikit-learn.org. See: https://github.com/scikit-learn/scikit-learn/issues/21755 */display: inline-block !important;position: relative;}#sk-container-id-9 div.sk-text-repr-fallback {display: none;}</style><div id=\"sk-container-id-9\" class=\"sk-top-container\"><div class=\"sk-text-repr-fallback\"><pre>Genre_vec()</pre><b>In a Jupyter environment, please rerun this cell to show the HTML representation or trust the notebook. <br />On GitHub, the HTML representation is unable to render, please try loading this page with nbviewer.org.</b></div><div class=\"sk-container\" hidden><div class=\"sk-item\"><div class=\"sk-estimator sk-toggleable\"><input class=\"sk-toggleable__control sk-hidden--visually\" id=\"sk-estimator-id-9\" type=\"checkbox\" checked><label for=\"sk-estimator-id-9\" class=\"sk-toggleable__label sk-toggleable__label-arrow\">Genre_vec</label><div class=\"sk-toggleable__content\"><pre>Genre_vec()</pre></div></div></div></div></div>"
      ],
      "text/plain": [
       "Genre_vec()"
      ]
     },
     "execution_count": 53,
     "metadata": {},
     "output_type": "execute_result"
    }
   ],
   "source": [
    "gv.fit(df, 'track_genre')"
   ]
  },
  {
   "cell_type": "code",
   "execution_count": 54,
   "id": "1745077b-18c1-4764-9648-faf9c891c094",
   "metadata": {},
   "outputs": [],
   "source": [
    "gv.save_to_pickle()"
   ]
  },
  {
   "cell_type": "code",
   "execution_count": null,
   "id": "3cd486ca-9250-4986-b997-da2ee34b2612",
   "metadata": {},
   "outputs": [],
   "source": []
  },
  {
   "cell_type": "code",
   "execution_count": null,
   "id": "54b56870-524e-4c56-8866-613277db3785",
   "metadata": {},
   "outputs": [],
   "source": []
  },
  {
   "cell_type": "code",
   "execution_count": null,
   "id": "6f1cd9e7-fd80-4dc7-9edb-705f9e15e576",
   "metadata": {},
   "outputs": [],
   "source": []
  },
  {
   "cell_type": "code",
   "execution_count": 29,
   "id": "131ac0e9-a820-48a2-851f-198d9c67a1ff",
   "metadata": {},
   "outputs": [],
   "source": [
    "song = df.loc[df['track_name'] == 'Come to My Aid - 2008 Remaster']"
   ]
  },
  {
   "cell_type": "code",
   "execution_count": 30,
   "id": "3179ec31-93ca-4492-bd00-530e99b1b3dd",
   "metadata": {},
   "outputs": [
    {
     "data": {
      "text/html": [
       "<div>\n",
       "<style scoped>\n",
       "    .dataframe tbody tr th:only-of-type {\n",
       "        vertical-align: middle;\n",
       "    }\n",
       "\n",
       "    .dataframe tbody tr th {\n",
       "        vertical-align: top;\n",
       "    }\n",
       "\n",
       "    .dataframe thead th {\n",
       "        text-align: right;\n",
       "    }\n",
       "</style>\n",
       "<table border=\"1\" class=\"dataframe\">\n",
       "  <thead>\n",
       "    <tr style=\"text-align: right;\">\n",
       "      <th></th>\n",
       "      <th>track_id</th>\n",
       "      <th>artists</th>\n",
       "      <th>album_name</th>\n",
       "      <th>track_name</th>\n",
       "      <th>popularity</th>\n",
       "      <th>duration_ms</th>\n",
       "      <th>explicit</th>\n",
       "      <th>danceability</th>\n",
       "      <th>energy</th>\n",
       "      <th>key</th>\n",
       "      <th>loudness</th>\n",
       "      <th>mode</th>\n",
       "      <th>speechiness</th>\n",
       "      <th>acousticness</th>\n",
       "      <th>instrumentalness</th>\n",
       "      <th>liveness</th>\n",
       "      <th>valence</th>\n",
       "      <th>tempo</th>\n",
       "      <th>time_signature</th>\n",
       "      <th>track_genre</th>\n",
       "    </tr>\n",
       "  </thead>\n",
       "  <tbody>\n",
       "    <tr>\n",
       "      <th>10351</th>\n",
       "      <td>5xe8JKOPu53Q2Fa2FRuCfZ</td>\n",
       "      <td>Simply Red</td>\n",
       "      <td>Planet 80's</td>\n",
       "      <td>Come to My Aid - 2008 Remaster</td>\n",
       "      <td>1</td>\n",
       "      <td>245106</td>\n",
       "      <td>False</td>\n",
       "      <td>0.771</td>\n",
       "      <td>0.898</td>\n",
       "      <td>11</td>\n",
       "      <td>-6.432</td>\n",
       "      <td>0</td>\n",
       "      <td>0.0404</td>\n",
       "      <td>0.299</td>\n",
       "      <td>0.0899</td>\n",
       "      <td>0.0889</td>\n",
       "      <td>0.961</td>\n",
       "      <td>116.204</td>\n",
       "      <td>4</td>\n",
       "      <td>[british, r-n-b, soul]</td>\n",
       "    </tr>\n",
       "  </tbody>\n",
       "</table>\n",
       "</div>"
      ],
      "text/plain": [
       "                     track_id     artists   album_name  \\\n",
       "10351  5xe8JKOPu53Q2Fa2FRuCfZ  Simply Red  Planet 80's   \n",
       "\n",
       "                           track_name  popularity  duration_ms  explicit  \\\n",
       "10351  Come to My Aid - 2008 Remaster           1       245106     False   \n",
       "\n",
       "       danceability  energy  key  loudness  mode  speechiness  acousticness  \\\n",
       "10351         0.771   0.898   11    -6.432     0       0.0404         0.299   \n",
       "\n",
       "       instrumentalness  liveness  valence    tempo  time_signature  \\\n",
       "10351            0.0899    0.0889    0.961  116.204               4   \n",
       "\n",
       "                  track_genre  \n",
       "10351  [british, r-n-b, soul]  "
      ]
     },
     "execution_count": 30,
     "metadata": {},
     "output_type": "execute_result"
    }
   ],
   "source": [
    "song"
   ]
  },
  {
   "cell_type": "code",
   "execution_count": 31,
   "id": "56a75aec-d514-4f30-af8b-7fba4c03ac41",
   "metadata": {},
   "outputs": [],
   "source": [
    "artist = 'Sister Sledge'\n",
    "track = 'greatest dancer'"
   ]
  },
  {
   "cell_type": "code",
   "execution_count": 32,
   "id": "20faccee-3e91-4778-b2f6-a1772c28f920",
   "metadata": {
    "scrolled": true
   },
   "outputs": [],
   "source": [
    "song = get_track_info(track, artist)"
   ]
  },
  {
   "cell_type": "code",
   "execution_count": 33,
   "id": "cd7b158d-161c-4ff1-bc96-ca3e35e37b10",
   "metadata": {},
   "outputs": [
    {
     "data": {
      "text/html": [
       "<div>\n",
       "<style scoped>\n",
       "    .dataframe tbody tr th:only-of-type {\n",
       "        vertical-align: middle;\n",
       "    }\n",
       "\n",
       "    .dataframe tbody tr th {\n",
       "        vertical-align: top;\n",
       "    }\n",
       "\n",
       "    .dataframe thead th {\n",
       "        text-align: right;\n",
       "    }\n",
       "</style>\n",
       "<table border=\"1\" class=\"dataframe\">\n",
       "  <thead>\n",
       "    <tr style=\"text-align: right;\">\n",
       "      <th></th>\n",
       "      <th>track_id</th>\n",
       "      <th>artists</th>\n",
       "      <th>album_name</th>\n",
       "      <th>track_name</th>\n",
       "      <th>popularity</th>\n",
       "      <th>duration_ms</th>\n",
       "      <th>explicit</th>\n",
       "      <th>danceability</th>\n",
       "      <th>energy</th>\n",
       "      <th>key</th>\n",
       "      <th>loudness</th>\n",
       "      <th>mode</th>\n",
       "      <th>speechiness</th>\n",
       "      <th>acousticness</th>\n",
       "      <th>instrumentalness</th>\n",
       "      <th>liveness</th>\n",
       "      <th>valence</th>\n",
       "      <th>tempo</th>\n",
       "      <th>time_signature</th>\n",
       "      <th>track_genre</th>\n",
       "    </tr>\n",
       "  </thead>\n",
       "  <tbody>\n",
       "    <tr>\n",
       "      <th>0</th>\n",
       "      <td>5WwRKYnVy9dekqXAGPbAvU</td>\n",
       "      <td>Sister Sledge</td>\n",
       "      <td>We Are Family (1995 Remaster)</td>\n",
       "      <td>He's the Greatest Dancer - 1995 Remaster</td>\n",
       "      <td>64</td>\n",
       "      <td>375400</td>\n",
       "      <td>False</td>\n",
       "      <td>0.7</td>\n",
       "      <td>0.816</td>\n",
       "      <td>7</td>\n",
       "      <td>-9.711</td>\n",
       "      <td>0</td>\n",
       "      <td>0.044</td>\n",
       "      <td>0.00115</td>\n",
       "      <td>0.00123</td>\n",
       "      <td>0.0901</td>\n",
       "      <td>0.838</td>\n",
       "      <td>113.244</td>\n",
       "      <td>4</td>\n",
       "      <td>[disco, funk, philly soul, quiet storm, soul]</td>\n",
       "    </tr>\n",
       "  </tbody>\n",
       "</table>\n",
       "</div>"
      ],
      "text/plain": [
       "                 track_id        artists                     album_name  \\\n",
       "0  5WwRKYnVy9dekqXAGPbAvU  Sister Sledge  We Are Family (1995 Remaster)   \n",
       "\n",
       "                                 track_name  popularity  duration_ms  \\\n",
       "0  He's the Greatest Dancer - 1995 Remaster          64       375400   \n",
       "\n",
       "   explicit  danceability  energy  key  loudness  mode  speechiness  \\\n",
       "0     False           0.7   0.816    7    -9.711     0        0.044   \n",
       "\n",
       "   acousticness  instrumentalness  liveness  valence    tempo  time_signature  \\\n",
       "0       0.00115           0.00123    0.0901    0.838  113.244               4   \n",
       "\n",
       "                                     track_genre  \n",
       "0  [disco, funk, philly soul, quiet storm, soul]  "
      ]
     },
     "execution_count": 33,
     "metadata": {},
     "output_type": "execute_result"
    }
   ],
   "source": [
    "song"
   ]
  },
  {
   "cell_type": "code",
   "execution_count": 36,
   "id": "3141d23f-3145-41cf-93dc-ab96c24a98c8",
   "metadata": {},
   "outputs": [
    {
     "data": {
      "text/plain": [
       "(20, 114)"
      ]
     },
     "execution_count": 36,
     "metadata": {},
     "output_type": "execute_result"
    }
   ],
   "source": [
    "cv.transform(song).todense().shape"
   ]
  },
  {
   "cell_type": "code",
   "execution_count": 35,
   "id": "e4484b77-7c75-466c-9585-d9a91447b882",
   "metadata": {},
   "outputs": [
    {
     "data": {
      "text/html": [
       "<div>\n",
       "<style scoped>\n",
       "    .dataframe tbody tr th:only-of-type {\n",
       "        vertical-align: middle;\n",
       "    }\n",
       "\n",
       "    .dataframe tbody tr th {\n",
       "        vertical-align: top;\n",
       "    }\n",
       "\n",
       "    .dataframe thead th {\n",
       "        text-align: right;\n",
       "    }\n",
       "</style>\n",
       "<table border=\"1\" class=\"dataframe\">\n",
       "  <thead>\n",
       "    <tr style=\"text-align: right;\">\n",
       "      <th></th>\n",
       "      <th>track_id</th>\n",
       "      <th>similarity</th>\n",
       "      <th>track_name</th>\n",
       "      <th>artist</th>\n",
       "    </tr>\n",
       "  </thead>\n",
       "  <tbody>\n",
       "    <tr>\n",
       "      <th>27932</th>\n",
       "      <td>65ES1qwOB577ZnTkizMXJJ</td>\n",
       "      <td>2.196974</td>\n",
       "      <td>HUMBLE. - SKRILLEX REMIX</td>\n",
       "      <td>Skrillex;Kendrick Lamar</td>\n",
       "    </tr>\n",
       "    <tr>\n",
       "      <th>18933</th>\n",
       "      <td>7JJmb5XwzOO8jgpou264Ml</td>\n",
       "      <td>2.182794</td>\n",
       "      <td>There's Nothing Holdin' Me Back</td>\n",
       "      <td>Shawn Mendes</td>\n",
       "    </tr>\n",
       "    <tr>\n",
       "      <th>57757</th>\n",
       "      <td>2L95U6syP0bV3fkYYOzmiW</td>\n",
       "      <td>2.178131</td>\n",
       "      <td>La Mamá de la Mamá</td>\n",
       "      <td>El Alfa;Chael Produciendo;CJ;El Cherry Scom</td>\n",
       "    </tr>\n",
       "    <tr>\n",
       "      <th>70611</th>\n",
       "      <td>3SFXsFpeGmBTtQvKiwYMDA</td>\n",
       "      <td>2.159489</td>\n",
       "      <td>Pretty Fly (For A White Guy)</td>\n",
       "      <td>The Offspring</td>\n",
       "    </tr>\n",
       "    <tr>\n",
       "      <th>83318</th>\n",
       "      <td>7rWgGyRK7RAqAAXy4bLft9</td>\n",
       "      <td>2.154738</td>\n",
       "      <td>Angeleyes</td>\n",
       "      <td>ABBA</td>\n",
       "    </tr>\n",
       "    <tr>\n",
       "      <th>33117</th>\n",
       "      <td>68av1mZz0VsIYXJWATZWUW</td>\n",
       "      <td>2.144661</td>\n",
       "      <td>Zemër</td>\n",
       "      <td>Soolking;Dhurata Dora</td>\n",
       "    </tr>\n",
       "  </tbody>\n",
       "</table>\n",
       "</div>"
      ],
      "text/plain": [
       "                     track_id  similarity                       track_name  \\\n",
       "27932  65ES1qwOB577ZnTkizMXJJ    2.196974         HUMBLE. - SKRILLEX REMIX   \n",
       "18933  7JJmb5XwzOO8jgpou264Ml    2.182794  There's Nothing Holdin' Me Back   \n",
       "57757  2L95U6syP0bV3fkYYOzmiW    2.178131               La Mamá de la Mamá   \n",
       "70611  3SFXsFpeGmBTtQvKiwYMDA    2.159489     Pretty Fly (For A White Guy)   \n",
       "83318  7rWgGyRK7RAqAAXy4bLft9    2.154738                        Angeleyes   \n",
       "33117  68av1mZz0VsIYXJWATZWUW    2.144661                            Zemër   \n",
       "\n",
       "                                            artist  \n",
       "27932                      Skrillex;Kendrick Lamar  \n",
       "18933                                 Shawn Mendes  \n",
       "57757  El Alfa;Chael Produciendo;CJ;El Cherry Scom  \n",
       "70611                                The Offspring  \n",
       "83318                                         ABBA  \n",
       "33117                        Soolking;Dhurata Dora  "
      ]
     },
     "execution_count": 35,
     "metadata": {},
     "output_type": "execute_result"
    }
   ],
   "source": [
    "get_recommendations(song, df, n_recommendations=5, metric = 'polynomial')"
   ]
  },
  {
   "cell_type": "code",
   "execution_count": 19,
   "id": "b6769f0a-a75c-4a08-b100-339524a96348",
   "metadata": {},
   "outputs": [
    {
     "data": {
      "text/html": [
       "<div>\n",
       "<style scoped>\n",
       "    .dataframe tbody tr th:only-of-type {\n",
       "        vertical-align: middle;\n",
       "    }\n",
       "\n",
       "    .dataframe tbody tr th {\n",
       "        vertical-align: top;\n",
       "    }\n",
       "\n",
       "    .dataframe thead th {\n",
       "        text-align: right;\n",
       "    }\n",
       "</style>\n",
       "<table border=\"1\" class=\"dataframe\">\n",
       "  <thead>\n",
       "    <tr style=\"text-align: right;\">\n",
       "      <th></th>\n",
       "      <th>track_id</th>\n",
       "      <th>similarity</th>\n",
       "      <th>track_name</th>\n",
       "      <th>artist</th>\n",
       "    </tr>\n",
       "  </thead>\n",
       "  <tbody>\n",
       "    <tr>\n",
       "      <th>24464</th>\n",
       "      <td>5WwRKYnVy9dekqXAGPbAvU</td>\n",
       "      <td>0.999971</td>\n",
       "      <td>He's the Greatest Dancer - 1995 Remaster</td>\n",
       "      <td>Sister Sledge</td>\n",
       "    </tr>\n",
       "    <tr>\n",
       "      <th>67451</th>\n",
       "      <td>5iwPZEPu8bxy1fAWnhYT7J</td>\n",
       "      <td>0.998414</td>\n",
       "      <td>Ek Pal Ka Jeena</td>\n",
       "      <td>Lucky Ali</td>\n",
       "    </tr>\n",
       "    <tr>\n",
       "      <th>21751</th>\n",
       "      <td>3W4BmmQVuhF8rBUQY3Ga41</td>\n",
       "      <td>0.998180</td>\n",
       "      <td>In the Dark</td>\n",
       "      <td>Purple Disco Machine;Sophie and the Giants</td>\n",
       "    </tr>\n",
       "    <tr>\n",
       "      <th>47203</th>\n",
       "      <td>7iUB3byx9Rcks8zW10JVkP</td>\n",
       "      <td>0.998109</td>\n",
       "      <td>Stupid Feelings</td>\n",
       "      <td>220 KID;LANY</td>\n",
       "    </tr>\n",
       "    <tr>\n",
       "      <th>53812</th>\n",
       "      <td>0MJ5wsGpqu0gTJkx53ewxc</td>\n",
       "      <td>0.997786</td>\n",
       "      <td>osmanthus</td>\n",
       "      <td>whaledontsleep;Ado</td>\n",
       "    </tr>\n",
       "    <tr>\n",
       "      <th>10864</th>\n",
       "      <td>0f2zcrhhHT59aIGQvRlTZ1</td>\n",
       "      <td>0.997549</td>\n",
       "      <td>One More Night</td>\n",
       "      <td>Michael Kiwanuka</td>\n",
       "    </tr>\n",
       "  </tbody>\n",
       "</table>\n",
       "</div>"
      ],
      "text/plain": [
       "                     track_id  similarity  \\\n",
       "24464  5WwRKYnVy9dekqXAGPbAvU    0.999971   \n",
       "67451  5iwPZEPu8bxy1fAWnhYT7J    0.998414   \n",
       "21751  3W4BmmQVuhF8rBUQY3Ga41    0.998180   \n",
       "47203  7iUB3byx9Rcks8zW10JVkP    0.998109   \n",
       "53812  0MJ5wsGpqu0gTJkx53ewxc    0.997786   \n",
       "10864  0f2zcrhhHT59aIGQvRlTZ1    0.997549   \n",
       "\n",
       "                                     track_name  \\\n",
       "24464  He's the Greatest Dancer - 1995 Remaster   \n",
       "67451                           Ek Pal Ka Jeena   \n",
       "21751                               In the Dark   \n",
       "47203                           Stupid Feelings   \n",
       "53812                                 osmanthus   \n",
       "10864                            One More Night   \n",
       "\n",
       "                                           artist  \n",
       "24464                               Sister Sledge  \n",
       "67451                                   Lucky Ali  \n",
       "21751  Purple Disco Machine;Sophie and the Giants  \n",
       "47203                                220 KID;LANY  \n",
       "53812                          whaledontsleep;Ado  \n",
       "10864                            Michael Kiwanuka  "
      ]
     },
     "execution_count": 19,
     "metadata": {},
     "output_type": "execute_result"
    }
   ],
   "source": [
    "get_recommendations(song, df, n_recommendations=5, metric = 'rbf')"
   ]
  },
  {
   "cell_type": "code",
   "execution_count": 20,
   "id": "53e3fcb7-11b5-4471-9988-b9f51fb6fd80",
   "metadata": {},
   "outputs": [
    {
     "data": {
      "text/html": [
       "<div>\n",
       "<style scoped>\n",
       "    .dataframe tbody tr th:only-of-type {\n",
       "        vertical-align: middle;\n",
       "    }\n",
       "\n",
       "    .dataframe tbody tr th {\n",
       "        vertical-align: top;\n",
       "    }\n",
       "\n",
       "    .dataframe thead th {\n",
       "        text-align: right;\n",
       "    }\n",
       "</style>\n",
       "<table border=\"1\" class=\"dataframe\">\n",
       "  <thead>\n",
       "    <tr style=\"text-align: right;\">\n",
       "      <th></th>\n",
       "      <th>track_id</th>\n",
       "      <th>similarity</th>\n",
       "      <th>track_name</th>\n",
       "      <th>artist</th>\n",
       "    </tr>\n",
       "  </thead>\n",
       "  <tbody>\n",
       "    <tr>\n",
       "      <th>27932</th>\n",
       "      <td>65ES1qwOB577ZnTkizMXJJ</td>\n",
       "      <td>0.861722</td>\n",
       "      <td>HUMBLE. - SKRILLEX REMIX</td>\n",
       "      <td>Skrillex;Kendrick Lamar</td>\n",
       "    </tr>\n",
       "    <tr>\n",
       "      <th>18933</th>\n",
       "      <td>7JJmb5XwzOO8jgpou264Ml</td>\n",
       "      <td>0.860999</td>\n",
       "      <td>There's Nothing Holdin' Me Back</td>\n",
       "      <td>Shawn Mendes</td>\n",
       "    </tr>\n",
       "    <tr>\n",
       "      <th>57757</th>\n",
       "      <td>2L95U6syP0bV3fkYYOzmiW</td>\n",
       "      <td>0.860759</td>\n",
       "      <td>La Mamá de la Mamá</td>\n",
       "      <td>El Alfa;Chael Produciendo;CJ;El Cherry Scom</td>\n",
       "    </tr>\n",
       "    <tr>\n",
       "      <th>70611</th>\n",
       "      <td>3SFXsFpeGmBTtQvKiwYMDA</td>\n",
       "      <td>0.859795</td>\n",
       "      <td>Pretty Fly (For A White Guy)</td>\n",
       "      <td>The Offspring</td>\n",
       "    </tr>\n",
       "    <tr>\n",
       "      <th>83318</th>\n",
       "      <td>7rWgGyRK7RAqAAXy4bLft9</td>\n",
       "      <td>0.859548</td>\n",
       "      <td>Angeleyes</td>\n",
       "      <td>ABBA</td>\n",
       "    </tr>\n",
       "    <tr>\n",
       "      <th>33117</th>\n",
       "      <td>68av1mZz0VsIYXJWATZWUW</td>\n",
       "      <td>0.859020</td>\n",
       "      <td>Zemër</td>\n",
       "      <td>Soolking;Dhurata Dora</td>\n",
       "    </tr>\n",
       "  </tbody>\n",
       "</table>\n",
       "</div>"
      ],
      "text/plain": [
       "                     track_id  similarity                       track_name  \\\n",
       "27932  65ES1qwOB577ZnTkizMXJJ    0.861722         HUMBLE. - SKRILLEX REMIX   \n",
       "18933  7JJmb5XwzOO8jgpou264Ml    0.860999  There's Nothing Holdin' Me Back   \n",
       "57757  2L95U6syP0bV3fkYYOzmiW    0.860759               La Mamá de la Mamá   \n",
       "70611  3SFXsFpeGmBTtQvKiwYMDA    0.859795     Pretty Fly (For A White Guy)   \n",
       "83318  7rWgGyRK7RAqAAXy4bLft9    0.859548                        Angeleyes   \n",
       "33117  68av1mZz0VsIYXJWATZWUW    0.859020                            Zemër   \n",
       "\n",
       "                                            artist  \n",
       "27932                      Skrillex;Kendrick Lamar  \n",
       "18933                                 Shawn Mendes  \n",
       "57757  El Alfa;Chael Produciendo;CJ;El Cherry Scom  \n",
       "70611                                The Offspring  \n",
       "83318                                         ABBA  \n",
       "33117                        Soolking;Dhurata Dora  "
      ]
     },
     "execution_count": 20,
     "metadata": {},
     "output_type": "execute_result"
    }
   ],
   "source": [
    "get_recommendations(song, df, n_recommendations=5, metric= 'sigmoid')"
   ]
  }
 ],
 "metadata": {
  "kernelspec": {
   "display_name": "Python 3 (ipykernel)",
   "language": "python",
   "name": "python3"
  },
  "language_info": {
   "codemirror_mode": {
    "name": "ipython",
    "version": 3
   },
   "file_extension": ".py",
   "mimetype": "text/x-python",
   "name": "python",
   "nbconvert_exporter": "python",
   "pygments_lexer": "ipython3",
   "version": "3.10.6"
  }
 },
 "nbformat": 4,
 "nbformat_minor": 5
}
