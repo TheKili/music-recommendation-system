{
 "cells": [
  {
   "cell_type": "code",
   "execution_count": 1,
   "id": "c53a875d-b2da-46a1-87a8-08aba022c4cd",
   "metadata": {},
   "outputs": [],
   "source": [
    "%load_ext autoreload\n",
    "%autoreload 2\n",
    "import pandas as pd\n",
    "import os\n",
    "from sklearn.preprocessing import MinMaxScaler\n",
    "from sklearn.metrics.pairwise import cosine_similarity\n",
    "from sklearn.base import BaseEstimator, TransformerMixin\n",
    "from sklearn.feature_extraction.text import CountVectorizer\n",
    "import sys\n",
    "import os"
   ]
  },
  {
   "cell_type": "code",
   "execution_count": 2,
   "id": "1e412454-80b9-4906-950b-dd1a46bfa19b",
   "metadata": {},
   "outputs": [],
   "source": [
    "# Get the parent directory path\n",
    "parent_dir = os.path.dirname(os.path.abspath(''))\n",
    "# Add the parent directory to sys.path\n",
    "sys.path.append(parent_dir)"
   ]
  },
  {
   "cell_type": "code",
   "execution_count": 3,
   "id": "93275711-f2e3-43fa-8c84-e62a0c689293",
   "metadata": {},
   "outputs": [
    {
     "data": {
      "text/plain": [
       "'/home/buggy0815/code/TheKili/music-recommendation-system'"
      ]
     },
     "execution_count": 3,
     "metadata": {},
     "output_type": "execute_result"
    }
   ],
   "source": [
    "parent_dir"
   ]
  },
  {
   "cell_type": "code",
   "execution_count": 4,
   "id": "df356409-a61f-4603-92a2-8a6a05e0f9a9",
   "metadata": {},
   "outputs": [],
   "source": [
    "from recommender.data_preprocessing import drop_duplicated\n",
    "from recommender.memory_based import get_recommendations\n",
    "from recommender.utils_spotify import get_track_info\n",
    "from recommender.data_preprocessing import Genre_vec"
   ]
  },
  {
   "cell_type": "code",
   "execution_count": 5,
   "id": "25bf64d1-caae-4e9f-947f-2a06874a4b50",
   "metadata": {},
   "outputs": [],
   "source": [
    "data_path = os.path.join(os.path.dirname(os.getcwd()), 'preprocessed_data/data_preprocessed.csv')\n",
    "df = pd.read_csv(data_path, index_col = 0)"
   ]
  },
  {
   "cell_type": "code",
   "execution_count": 6,
   "id": "3cd486ca-9250-4986-b997-da2ee34b2612",
   "metadata": {},
   "outputs": [],
   "source": [
    "data_path = os.path.join(os.path.dirname(os.getcwd()), 'raw_data/dataset.csv')\n",
    "df_raw = pd.read_csv(data_path, index_col = 0)"
   ]
  },
  {
   "cell_type": "code",
   "execution_count": 7,
   "id": "131ac0e9-a820-48a2-851f-198d9c67a1ff",
   "metadata": {},
   "outputs": [],
   "source": [
    "song = df.loc[df['track_name'] == 'Come to My Aid - 2008 Remaster']"
   ]
  },
  {
   "cell_type": "code",
   "execution_count": 8,
   "id": "3179ec31-93ca-4492-bd00-530e99b1b3dd",
   "metadata": {},
   "outputs": [
    {
     "data": {
      "text/html": [
       "<div>\n",
       "<style scoped>\n",
       "    .dataframe tbody tr th:only-of-type {\n",
       "        vertical-align: middle;\n",
       "    }\n",
       "\n",
       "    .dataframe tbody tr th {\n",
       "        vertical-align: top;\n",
       "    }\n",
       "\n",
       "    .dataframe thead th {\n",
       "        text-align: right;\n",
       "    }\n",
       "</style>\n",
       "<table border=\"1\" class=\"dataframe\">\n",
       "  <thead>\n",
       "    <tr style=\"text-align: right;\">\n",
       "      <th></th>\n",
       "      <th>track_id</th>\n",
       "      <th>artists</th>\n",
       "      <th>album_name</th>\n",
       "      <th>track_name</th>\n",
       "      <th>popularity</th>\n",
       "      <th>duration_ms</th>\n",
       "      <th>explicit</th>\n",
       "      <th>danceability</th>\n",
       "      <th>energy</th>\n",
       "      <th>key</th>\n",
       "      <th>...</th>\n",
       "      <th>swedish</th>\n",
       "      <th>synth</th>\n",
       "      <th>tango</th>\n",
       "      <th>techno</th>\n",
       "      <th>tonk</th>\n",
       "      <th>trance</th>\n",
       "      <th>trip</th>\n",
       "      <th>tunes</th>\n",
       "      <th>turkish</th>\n",
       "      <th>world</th>\n",
       "    </tr>\n",
       "  </thead>\n",
       "  <tbody>\n",
       "    <tr>\n",
       "      <th>10351</th>\n",
       "      <td>5xe8JKOPu53Q2Fa2FRuCfZ</td>\n",
       "      <td>Simply Red</td>\n",
       "      <td>Planet 80's</td>\n",
       "      <td>Come to My Aid - 2008 Remaster</td>\n",
       "      <td>1</td>\n",
       "      <td>245106</td>\n",
       "      <td>False</td>\n",
       "      <td>0.771</td>\n",
       "      <td>0.898</td>\n",
       "      <td>11</td>\n",
       "      <td>...</td>\n",
       "      <td>0</td>\n",
       "      <td>0</td>\n",
       "      <td>0</td>\n",
       "      <td>0</td>\n",
       "      <td>0</td>\n",
       "      <td>0</td>\n",
       "      <td>0</td>\n",
       "      <td>0</td>\n",
       "      <td>0</td>\n",
       "      <td>0</td>\n",
       "    </tr>\n",
       "  </tbody>\n",
       "</table>\n",
       "<p>1 rows × 133 columns</p>\n",
       "</div>"
      ],
      "text/plain": [
       "                     track_id     artists   album_name  \\\n",
       "10351  5xe8JKOPu53Q2Fa2FRuCfZ  Simply Red  Planet 80's   \n",
       "\n",
       "                           track_name  popularity  duration_ms  explicit  \\\n",
       "10351  Come to My Aid - 2008 Remaster           1       245106     False   \n",
       "\n",
       "       danceability  energy  key  ...  swedish  synth  tango  techno  tonk  \\\n",
       "10351         0.771   0.898   11  ...        0      0      0       0     0   \n",
       "\n",
       "       trance  trip  tunes  turkish  world  \n",
       "10351       0     0      0        0      0  \n",
       "\n",
       "[1 rows x 133 columns]"
      ]
     },
     "execution_count": 8,
     "metadata": {},
     "output_type": "execute_result"
    }
   ],
   "source": [
    "song"
   ]
  },
  {
   "cell_type": "code",
   "execution_count": null,
   "id": "56a75aec-d514-4f30-af8b-7fba4c03ac41",
   "metadata": {},
   "outputs": [],
   "source": [
    "artist = 'Sister Sledge'\n",
    "track = 'greatest dancer'\n",
    "song = get_track_info(track, artist)"
   ]
  },
  {
   "cell_type": "code",
   "execution_count": null,
   "id": "9afb671d-a734-4fa7-9fad-b9da0a4d658e",
   "metadata": {},
   "outputs": [],
   "source": [
    "song = get_track_info(track, artist)"
   ]
  },
  {
   "cell_type": "code",
   "execution_count": null,
   "id": "de5b73ec-673e-4087-af89-4376e4cbdeee",
   "metadata": {},
   "outputs": [],
   "source": [
    "df_raw = drop_duplicated(df_raw)"
   ]
  },
  {
   "cell_type": "code",
   "execution_count": null,
   "id": "5b96132f-7e99-4ca6-9238-2cfb1501ef80",
   "metadata": {},
   "outputs": [],
   "source": [
    "gv = Genre_vec()"
   ]
  },
  {
   "cell_type": "code",
   "execution_count": null,
   "id": "7bd9856d-c916-4b62-a3ec-72e8c252973d",
   "metadata": {},
   "outputs": [],
   "source": [
    "df_transf = gv.fit_transform(df_raw, 'track_genre')"
   ]
  },
  {
   "cell_type": "code",
   "execution_count": null,
   "id": "169f3ef9-232a-47eb-a5e1-382d582f0be1",
   "metadata": {},
   "outputs": [],
   "source": [
    "df_transf.shape"
   ]
  },
  {
   "cell_type": "code",
   "execution_count": null,
   "id": "e61b632f-8a66-4fe6-9163-622b8c03ac6d",
   "metadata": {},
   "outputs": [],
   "source": [
    "song_transf = gv.transform(song)"
   ]
  },
  {
   "cell_type": "code",
   "execution_count": null,
   "id": "39eb9c5a-6325-4be1-93da-19bfe78e79b0",
   "metadata": {},
   "outputs": [],
   "source": [
    "song_transf.shape"
   ]
  },
  {
   "cell_type": "code",
   "execution_count": null,
   "id": "57cd31e0-34dd-44f2-ad1f-0bab01f1d3f6",
   "metadata": {},
   "outputs": [],
   "source": [
    "song_transf"
   ]
  },
  {
   "cell_type": "code",
   "execution_count": null,
   "id": "93435fb6-6f0c-49e2-890b-21e9fe3f587f",
   "metadata": {},
   "outputs": [],
   "source": [
    "import joblib"
   ]
  },
  {
   "cell_type": "code",
   "execution_count": 100,
   "id": "14d370d4-718f-4c7c-b0b8-7a513274aec9",
   "metadata": {},
   "outputs": [],
   "source": [
    "cv = joblib.load('../recommender/pickle/genre_vectorizer.pickle')\n",
    "song_input = cv.transform(song).todense()"
   ]
  },
  {
   "cell_type": "code",
   "execution_count": 101,
   "id": "c19258f5-3ed7-4a58-914f-c0fa73e2fde6",
   "metadata": {},
   "outputs": [
    {
     "data": {
      "text/plain": [
       "(20, 114)"
      ]
     },
     "execution_count": 101,
     "metadata": {},
     "output_type": "execute_result"
    }
   ],
   "source": [
    "song_input.shape"
   ]
  },
  {
   "cell_type": "code",
   "execution_count": 79,
   "id": "3f7959c5-49f0-49e6-991d-4616801e8c42",
   "metadata": {},
   "outputs": [],
   "source": [
    "genres = list(cv.get_feature_names_out())\n",
    "audio_feats = [\n",
    "         'popularity',\n",
    "         'duration_ms',\n",
    "         'explicit',\n",
    "         'danceability',\n",
    "         'energy',\n",
    "         'key',\n",
    "         'loudness',\n",
    "         'mode',\n",
    "         'speechiness',\n",
    "         'acousticness',\n",
    "         'instrumentalness',\n",
    "         'liveness',\n",
    "         'valence',\n",
    "         'tempo'\n",
    "    ]  \n",
    "audio_feats.extend(genres)"
   ]
  },
  {
   "cell_type": "code",
   "execution_count": null,
   "id": "cc027ffc-d72c-4fd7-8390-13976ec33875",
   "metadata": {},
   "outputs": [],
   "source": []
  },
  {
   "cell_type": "code",
   "execution_count": null,
   "id": "e8621e19-29c0-4362-843f-318abcae01cc",
   "metadata": {},
   "outputs": [],
   "source": []
  },
  {
   "cell_type": "code",
   "execution_count": 36,
   "id": "3141d23f-3145-41cf-93dc-ab96c24a98c8",
   "metadata": {},
   "outputs": [
    {
     "data": {
      "text/plain": [
       "(20, 114)"
      ]
     },
     "execution_count": 36,
     "metadata": {},
     "output_type": "execute_result"
    }
   ],
   "source": [
    "cv.transform(song).todense().shape"
   ]
  },
  {
   "cell_type": "code",
   "execution_count": 35,
   "id": "e4484b77-7c75-466c-9585-d9a91447b882",
   "metadata": {},
   "outputs": [
    {
     "data": {
      "text/html": [
       "<div>\n",
       "<style scoped>\n",
       "    .dataframe tbody tr th:only-of-type {\n",
       "        vertical-align: middle;\n",
       "    }\n",
       "\n",
       "    .dataframe tbody tr th {\n",
       "        vertical-align: top;\n",
       "    }\n",
       "\n",
       "    .dataframe thead th {\n",
       "        text-align: right;\n",
       "    }\n",
       "</style>\n",
       "<table border=\"1\" class=\"dataframe\">\n",
       "  <thead>\n",
       "    <tr style=\"text-align: right;\">\n",
       "      <th></th>\n",
       "      <th>track_id</th>\n",
       "      <th>similarity</th>\n",
       "      <th>track_name</th>\n",
       "      <th>artist</th>\n",
       "    </tr>\n",
       "  </thead>\n",
       "  <tbody>\n",
       "    <tr>\n",
       "      <th>27932</th>\n",
       "      <td>65ES1qwOB577ZnTkizMXJJ</td>\n",
       "      <td>2.196974</td>\n",
       "      <td>HUMBLE. - SKRILLEX REMIX</td>\n",
       "      <td>Skrillex;Kendrick Lamar</td>\n",
       "    </tr>\n",
       "    <tr>\n",
       "      <th>18933</th>\n",
       "      <td>7JJmb5XwzOO8jgpou264Ml</td>\n",
       "      <td>2.182794</td>\n",
       "      <td>There's Nothing Holdin' Me Back</td>\n",
       "      <td>Shawn Mendes</td>\n",
       "    </tr>\n",
       "    <tr>\n",
       "      <th>57757</th>\n",
       "      <td>2L95U6syP0bV3fkYYOzmiW</td>\n",
       "      <td>2.178131</td>\n",
       "      <td>La Mamá de la Mamá</td>\n",
       "      <td>El Alfa;Chael Produciendo;CJ;El Cherry Scom</td>\n",
       "    </tr>\n",
       "    <tr>\n",
       "      <th>70611</th>\n",
       "      <td>3SFXsFpeGmBTtQvKiwYMDA</td>\n",
       "      <td>2.159489</td>\n",
       "      <td>Pretty Fly (For A White Guy)</td>\n",
       "      <td>The Offspring</td>\n",
       "    </tr>\n",
       "    <tr>\n",
       "      <th>83318</th>\n",
       "      <td>7rWgGyRK7RAqAAXy4bLft9</td>\n",
       "      <td>2.154738</td>\n",
       "      <td>Angeleyes</td>\n",
       "      <td>ABBA</td>\n",
       "    </tr>\n",
       "    <tr>\n",
       "      <th>33117</th>\n",
       "      <td>68av1mZz0VsIYXJWATZWUW</td>\n",
       "      <td>2.144661</td>\n",
       "      <td>Zemër</td>\n",
       "      <td>Soolking;Dhurata Dora</td>\n",
       "    </tr>\n",
       "  </tbody>\n",
       "</table>\n",
       "</div>"
      ],
      "text/plain": [
       "                     track_id  similarity                       track_name  \\\n",
       "27932  65ES1qwOB577ZnTkizMXJJ    2.196974         HUMBLE. - SKRILLEX REMIX   \n",
       "18933  7JJmb5XwzOO8jgpou264Ml    2.182794  There's Nothing Holdin' Me Back   \n",
       "57757  2L95U6syP0bV3fkYYOzmiW    2.178131               La Mamá de la Mamá   \n",
       "70611  3SFXsFpeGmBTtQvKiwYMDA    2.159489     Pretty Fly (For A White Guy)   \n",
       "83318  7rWgGyRK7RAqAAXy4bLft9    2.154738                        Angeleyes   \n",
       "33117  68av1mZz0VsIYXJWATZWUW    2.144661                            Zemër   \n",
       "\n",
       "                                            artist  \n",
       "27932                      Skrillex;Kendrick Lamar  \n",
       "18933                                 Shawn Mendes  \n",
       "57757  El Alfa;Chael Produciendo;CJ;El Cherry Scom  \n",
       "70611                                The Offspring  \n",
       "83318                                         ABBA  \n",
       "33117                        Soolking;Dhurata Dora  "
      ]
     },
     "execution_count": 35,
     "metadata": {},
     "output_type": "execute_result"
    }
   ],
   "source": [
    "get_recommendations(song, df, n_recommendations=5, metric = 'polynomial')"
   ]
  },
  {
   "cell_type": "code",
   "execution_count": 19,
   "id": "b6769f0a-a75c-4a08-b100-339524a96348",
   "metadata": {},
   "outputs": [
    {
     "data": {
      "text/html": [
       "<div>\n",
       "<style scoped>\n",
       "    .dataframe tbody tr th:only-of-type {\n",
       "        vertical-align: middle;\n",
       "    }\n",
       "\n",
       "    .dataframe tbody tr th {\n",
       "        vertical-align: top;\n",
       "    }\n",
       "\n",
       "    .dataframe thead th {\n",
       "        text-align: right;\n",
       "    }\n",
       "</style>\n",
       "<table border=\"1\" class=\"dataframe\">\n",
       "  <thead>\n",
       "    <tr style=\"text-align: right;\">\n",
       "      <th></th>\n",
       "      <th>track_id</th>\n",
       "      <th>similarity</th>\n",
       "      <th>track_name</th>\n",
       "      <th>artist</th>\n",
       "    </tr>\n",
       "  </thead>\n",
       "  <tbody>\n",
       "    <tr>\n",
       "      <th>24464</th>\n",
       "      <td>5WwRKYnVy9dekqXAGPbAvU</td>\n",
       "      <td>0.999971</td>\n",
       "      <td>He's the Greatest Dancer - 1995 Remaster</td>\n",
       "      <td>Sister Sledge</td>\n",
       "    </tr>\n",
       "    <tr>\n",
       "      <th>67451</th>\n",
       "      <td>5iwPZEPu8bxy1fAWnhYT7J</td>\n",
       "      <td>0.998414</td>\n",
       "      <td>Ek Pal Ka Jeena</td>\n",
       "      <td>Lucky Ali</td>\n",
       "    </tr>\n",
       "    <tr>\n",
       "      <th>21751</th>\n",
       "      <td>3W4BmmQVuhF8rBUQY3Ga41</td>\n",
       "      <td>0.998180</td>\n",
       "      <td>In the Dark</td>\n",
       "      <td>Purple Disco Machine;Sophie and the Giants</td>\n",
       "    </tr>\n",
       "    <tr>\n",
       "      <th>47203</th>\n",
       "      <td>7iUB3byx9Rcks8zW10JVkP</td>\n",
       "      <td>0.998109</td>\n",
       "      <td>Stupid Feelings</td>\n",
       "      <td>220 KID;LANY</td>\n",
       "    </tr>\n",
       "    <tr>\n",
       "      <th>53812</th>\n",
       "      <td>0MJ5wsGpqu0gTJkx53ewxc</td>\n",
       "      <td>0.997786</td>\n",
       "      <td>osmanthus</td>\n",
       "      <td>whaledontsleep;Ado</td>\n",
       "    </tr>\n",
       "    <tr>\n",
       "      <th>10864</th>\n",
       "      <td>0f2zcrhhHT59aIGQvRlTZ1</td>\n",
       "      <td>0.997549</td>\n",
       "      <td>One More Night</td>\n",
       "      <td>Michael Kiwanuka</td>\n",
       "    </tr>\n",
       "  </tbody>\n",
       "</table>\n",
       "</div>"
      ],
      "text/plain": [
       "                     track_id  similarity  \\\n",
       "24464  5WwRKYnVy9dekqXAGPbAvU    0.999971   \n",
       "67451  5iwPZEPu8bxy1fAWnhYT7J    0.998414   \n",
       "21751  3W4BmmQVuhF8rBUQY3Ga41    0.998180   \n",
       "47203  7iUB3byx9Rcks8zW10JVkP    0.998109   \n",
       "53812  0MJ5wsGpqu0gTJkx53ewxc    0.997786   \n",
       "10864  0f2zcrhhHT59aIGQvRlTZ1    0.997549   \n",
       "\n",
       "                                     track_name  \\\n",
       "24464  He's the Greatest Dancer - 1995 Remaster   \n",
       "67451                           Ek Pal Ka Jeena   \n",
       "21751                               In the Dark   \n",
       "47203                           Stupid Feelings   \n",
       "53812                                 osmanthus   \n",
       "10864                            One More Night   \n",
       "\n",
       "                                           artist  \n",
       "24464                               Sister Sledge  \n",
       "67451                                   Lucky Ali  \n",
       "21751  Purple Disco Machine;Sophie and the Giants  \n",
       "47203                                220 KID;LANY  \n",
       "53812                          whaledontsleep;Ado  \n",
       "10864                            Michael Kiwanuka  "
      ]
     },
     "execution_count": 19,
     "metadata": {},
     "output_type": "execute_result"
    }
   ],
   "source": [
    "get_recommendations(song, df, n_recommendations=5, metric = 'rbf')"
   ]
  },
  {
   "cell_type": "code",
   "execution_count": 20,
   "id": "53e3fcb7-11b5-4471-9988-b9f51fb6fd80",
   "metadata": {
    "scrolled": true
   },
   "outputs": [
    {
     "data": {
      "text/html": [
       "<div>\n",
       "<style scoped>\n",
       "    .dataframe tbody tr th:only-of-type {\n",
       "        vertical-align: middle;\n",
       "    }\n",
       "\n",
       "    .dataframe tbody tr th {\n",
       "        vertical-align: top;\n",
       "    }\n",
       "\n",
       "    .dataframe thead th {\n",
       "        text-align: right;\n",
       "    }\n",
       "</style>\n",
       "<table border=\"1\" class=\"dataframe\">\n",
       "  <thead>\n",
       "    <tr style=\"text-align: right;\">\n",
       "      <th></th>\n",
       "      <th>track_id</th>\n",
       "      <th>similarity</th>\n",
       "      <th>track_name</th>\n",
       "      <th>artist</th>\n",
       "    </tr>\n",
       "  </thead>\n",
       "  <tbody>\n",
       "    <tr>\n",
       "      <th>27932</th>\n",
       "      <td>65ES1qwOB577ZnTkizMXJJ</td>\n",
       "      <td>0.861722</td>\n",
       "      <td>HUMBLE. - SKRILLEX REMIX</td>\n",
       "      <td>Skrillex;Kendrick Lamar</td>\n",
       "    </tr>\n",
       "    <tr>\n",
       "      <th>18933</th>\n",
       "      <td>7JJmb5XwzOO8jgpou264Ml</td>\n",
       "      <td>0.860999</td>\n",
       "      <td>There's Nothing Holdin' Me Back</td>\n",
       "      <td>Shawn Mendes</td>\n",
       "    </tr>\n",
       "    <tr>\n",
       "      <th>57757</th>\n",
       "      <td>2L95U6syP0bV3fkYYOzmiW</td>\n",
       "      <td>0.860759</td>\n",
       "      <td>La Mamá de la Mamá</td>\n",
       "      <td>El Alfa;Chael Produciendo;CJ;El Cherry Scom</td>\n",
       "    </tr>\n",
       "    <tr>\n",
       "      <th>70611</th>\n",
       "      <td>3SFXsFpeGmBTtQvKiwYMDA</td>\n",
       "      <td>0.859795</td>\n",
       "      <td>Pretty Fly (For A White Guy)</td>\n",
       "      <td>The Offspring</td>\n",
       "    </tr>\n",
       "    <tr>\n",
       "      <th>83318</th>\n",
       "      <td>7rWgGyRK7RAqAAXy4bLft9</td>\n",
       "      <td>0.859548</td>\n",
       "      <td>Angeleyes</td>\n",
       "      <td>ABBA</td>\n",
       "    </tr>\n",
       "    <tr>\n",
       "      <th>33117</th>\n",
       "      <td>68av1mZz0VsIYXJWATZWUW</td>\n",
       "      <td>0.859020</td>\n",
       "      <td>Zemër</td>\n",
       "      <td>Soolking;Dhurata Dora</td>\n",
       "    </tr>\n",
       "  </tbody>\n",
       "</table>\n",
       "</div>"
      ],
      "text/plain": [
       "                     track_id  similarity                       track_name  \\\n",
       "27932  65ES1qwOB577ZnTkizMXJJ    0.861722         HUMBLE. - SKRILLEX REMIX   \n",
       "18933  7JJmb5XwzOO8jgpou264Ml    0.860999  There's Nothing Holdin' Me Back   \n",
       "57757  2L95U6syP0bV3fkYYOzmiW    0.860759               La Mamá de la Mamá   \n",
       "70611  3SFXsFpeGmBTtQvKiwYMDA    0.859795     Pretty Fly (For A White Guy)   \n",
       "83318  7rWgGyRK7RAqAAXy4bLft9    0.859548                        Angeleyes   \n",
       "33117  68av1mZz0VsIYXJWATZWUW    0.859020                            Zemër   \n",
       "\n",
       "                                            artist  \n",
       "27932                      Skrillex;Kendrick Lamar  \n",
       "18933                                 Shawn Mendes  \n",
       "57757  El Alfa;Chael Produciendo;CJ;El Cherry Scom  \n",
       "70611                                The Offspring  \n",
       "83318                                         ABBA  \n",
       "33117                        Soolking;Dhurata Dora  "
      ]
     },
     "execution_count": 20,
     "metadata": {},
     "output_type": "execute_result"
    }
   ],
   "source": [
    "get_recommendations(song, df, n_recommendations=5, metric= 'sigmoid')"
   ]
  },
  {
   "cell_type": "markdown",
   "id": "c6f9ee76-3998-48e0-9a3c-8f7edee19cfd",
   "metadata": {},
   "source": [
    "## by using the pickle file"
   ]
  },
  {
   "cell_type": "code",
   "execution_count": 221,
   "id": "964c7272-d17c-4509-ae53-652147f439c8",
   "metadata": {},
   "outputs": [],
   "source": [
    "gen_vec = joblib.load('../recommender/pickle/genre_vectorizer.pickle')\n",
    "song_transformed = gen_vec.transform(song)"
   ]
  },
  {
   "cell_type": "code",
   "execution_count": 222,
   "id": "5dcfdde5-5de1-4d02-8a38-14901758b3c0",
   "metadata": {},
   "outputs": [
    {
     "data": {
      "text/html": [
       "<div>\n",
       "<style scoped>\n",
       "    .dataframe tbody tr th:only-of-type {\n",
       "        vertical-align: middle;\n",
       "    }\n",
       "\n",
       "    .dataframe tbody tr th {\n",
       "        vertical-align: top;\n",
       "    }\n",
       "\n",
       "    .dataframe thead th {\n",
       "        text-align: right;\n",
       "    }\n",
       "</style>\n",
       "<table border=\"1\" class=\"dataframe\">\n",
       "  <thead>\n",
       "    <tr style=\"text-align: right;\">\n",
       "      <th></th>\n",
       "      <th>track_id</th>\n",
       "      <th>artists</th>\n",
       "      <th>album_name</th>\n",
       "      <th>track_name</th>\n",
       "      <th>popularity</th>\n",
       "      <th>duration_ms</th>\n",
       "      <th>explicit</th>\n",
       "      <th>danceability</th>\n",
       "      <th>energy</th>\n",
       "      <th>key</th>\n",
       "      <th>...</th>\n",
       "      <th>swedish</th>\n",
       "      <th>synth</th>\n",
       "      <th>tango</th>\n",
       "      <th>techno</th>\n",
       "      <th>tonk</th>\n",
       "      <th>trance</th>\n",
       "      <th>trip</th>\n",
       "      <th>tunes</th>\n",
       "      <th>turkish</th>\n",
       "      <th>world</th>\n",
       "    </tr>\n",
       "  </thead>\n",
       "  <tbody>\n",
       "    <tr>\n",
       "      <th>0</th>\n",
       "      <td>5WwRKYnVy9dekqXAGPbAvU</td>\n",
       "      <td>Sister Sledge</td>\n",
       "      <td>We Are Family (1995 Remaster)</td>\n",
       "      <td>He's the Greatest Dancer - 1995 Remaster</td>\n",
       "      <td>64</td>\n",
       "      <td>375400</td>\n",
       "      <td>False</td>\n",
       "      <td>0.7</td>\n",
       "      <td>0.816</td>\n",
       "      <td>7</td>\n",
       "      <td>...</td>\n",
       "      <td>0</td>\n",
       "      <td>0</td>\n",
       "      <td>0</td>\n",
       "      <td>0</td>\n",
       "      <td>0</td>\n",
       "      <td>0</td>\n",
       "      <td>0</td>\n",
       "      <td>0</td>\n",
       "      <td>0</td>\n",
       "      <td>0</td>\n",
       "    </tr>\n",
       "  </tbody>\n",
       "</table>\n",
       "<p>1 rows × 133 columns</p>\n",
       "</div>"
      ],
      "text/plain": [
       "                 track_id        artists                     album_name  \\\n",
       "0  5WwRKYnVy9dekqXAGPbAvU  Sister Sledge  We Are Family (1995 Remaster)   \n",
       "\n",
       "                                 track_name  popularity  duration_ms  \\\n",
       "0  He's the Greatest Dancer - 1995 Remaster          64       375400   \n",
       "\n",
       "   explicit  danceability  energy  key  ...  swedish  synth  tango  techno  \\\n",
       "0     False           0.7   0.816    7  ...        0      0      0       0   \n",
       "\n",
       "   tonk  trance  trip  tunes  turkish  world  \n",
       "0     0       0     0      0        0      0  \n",
       "\n",
       "[1 rows x 133 columns]"
      ]
     },
     "execution_count": 222,
     "metadata": {},
     "output_type": "execute_result"
    }
   ],
   "source": [
    "song_transformed"
   ]
  },
  {
   "cell_type": "code",
   "execution_count": 219,
   "id": "25abf5a6-6766-4c0f-90b4-d00628cde7bc",
   "metadata": {},
   "outputs": [],
   "source": [
    "artist = 'sister sledge'\n",
    "track = 'hes the greatest dancer'\n",
    "song = get_track_info(track, artist)"
   ]
  },
  {
   "cell_type": "code",
   "execution_count": 226,
   "id": "842daf6d-6fc5-40e0-bd80-7e810aaf7b1d",
   "metadata": {},
   "outputs": [],
   "source": [
    "import spotipy\n",
    "from spotipy.oauth2 import SpotifyOAuth\n",
    "import pandas as pd\n",
    "import os\n",
    "\n",
    "scope = 'playlist-modify-public'\n",
    "username = 'buggy0811'    \n",
    "token = SpotifyOAuth(scope = os.environ['SPOTIFY_SCOPE'],\n",
    "                    username = os.environ['SPOTIFY_USERNAME'],\n",
    "                    client_id = os.environ['SPOTIFY_CLIENT_ID'],\n",
    "                    client_secret = os.environ['SPOTIFY_CLIENT_SECRET'],\n",
    "                    redirect_uri = 'http://127.0.0.1:8080/')\n",
    "sp = spotipy.Spotify(auth_manager = token)"
   ]
  },
  {
   "cell_type": "code",
   "execution_count": 224,
   "id": "8aa5e358-4034-4174-be57-41a4b700f6a5",
   "metadata": {},
   "outputs": [],
   "source": [
    "recs = get_recommendations(song, df)"
   ]
  },
  {
   "cell_type": "code",
   "execution_count": 225,
   "id": "eda6aefa-4944-47e7-86b1-684c2d5dc256",
   "metadata": {},
   "outputs": [
    {
     "data": {
      "text/html": [
       "<div>\n",
       "<style scoped>\n",
       "    .dataframe tbody tr th:only-of-type {\n",
       "        vertical-align: middle;\n",
       "    }\n",
       "\n",
       "    .dataframe tbody tr th {\n",
       "        vertical-align: top;\n",
       "    }\n",
       "\n",
       "    .dataframe thead th {\n",
       "        text-align: right;\n",
       "    }\n",
       "</style>\n",
       "<table border=\"1\" class=\"dataframe\">\n",
       "  <thead>\n",
       "    <tr style=\"text-align: right;\">\n",
       "      <th></th>\n",
       "      <th>track_id</th>\n",
       "      <th>similarity</th>\n",
       "      <th>track_name</th>\n",
       "      <th>artist</th>\n",
       "    </tr>\n",
       "  </thead>\n",
       "  <tbody>\n",
       "    <tr>\n",
       "      <th>23715</th>\n",
       "      <td>3koCCeSaVUyrRo3N2gHrd8</td>\n",
       "      <td>0.963575</td>\n",
       "      <td>Let's Groove</td>\n",
       "      <td>Earth, Wind &amp; Fire</td>\n",
       "    </tr>\n",
       "    <tr>\n",
       "      <th>23801</th>\n",
       "      <td>26bdkzE7QpGy8qE6nveFUq</td>\n",
       "      <td>0.941902</td>\n",
       "      <td>Ai No Corrida</td>\n",
       "      <td>Quincy Jones;Charles May</td>\n",
       "    </tr>\n",
       "    <tr>\n",
       "      <th>23698</th>\n",
       "      <td>2CjmX9aRcnD1UKAkWPz0jf</td>\n",
       "      <td>0.937943</td>\n",
       "      <td>Where Are You Tonite</td>\n",
       "      <td>Chaka Khan</td>\n",
       "    </tr>\n",
       "    <tr>\n",
       "      <th>23699</th>\n",
       "      <td>3otJCDpdQrrH8R1Ik04enX</td>\n",
       "      <td>0.935938</td>\n",
       "      <td>Any Old Sunday</td>\n",
       "      <td>Chaka Khan</td>\n",
       "    </tr>\n",
       "    <tr>\n",
       "      <th>23688</th>\n",
       "      <td>1GmcAwGupJea9KVsSXRGEo</td>\n",
       "      <td>0.934477</td>\n",
       "      <td>Ain't Nobody</td>\n",
       "      <td>Chaka Khan</td>\n",
       "    </tr>\n",
       "    <tr>\n",
       "      <th>23726</th>\n",
       "      <td>34cmEDq5SNUTBwELbIiDeh</td>\n",
       "      <td>0.915748</td>\n",
       "      <td>A Warm Summer Night</td>\n",
       "      <td>CHIC</td>\n",
       "    </tr>\n",
       "  </tbody>\n",
       "</table>\n",
       "</div>"
      ],
      "text/plain": [
       "                     track_id  similarity            track_name  \\\n",
       "23715  3koCCeSaVUyrRo3N2gHrd8    0.963575          Let's Groove   \n",
       "23801  26bdkzE7QpGy8qE6nveFUq    0.941902         Ai No Corrida   \n",
       "23698  2CjmX9aRcnD1UKAkWPz0jf    0.937943  Where Are You Tonite   \n",
       "23699  3otJCDpdQrrH8R1Ik04enX    0.935938        Any Old Sunday   \n",
       "23688  1GmcAwGupJea9KVsSXRGEo    0.934477          Ain't Nobody   \n",
       "23726  34cmEDq5SNUTBwELbIiDeh    0.915748   A Warm Summer Night   \n",
       "\n",
       "                         artist  \n",
       "23715        Earth, Wind & Fire  \n",
       "23801  Quincy Jones;Charles May  \n",
       "23698                Chaka Khan  \n",
       "23699                Chaka Khan  \n",
       "23688                Chaka Khan  \n",
       "23726                      CHIC  "
      ]
     },
     "execution_count": 225,
     "metadata": {},
     "output_type": "execute_result"
    }
   ],
   "source": [
    "recs"
   ]
  },
  {
   "cell_type": "code",
   "execution_count": 228,
   "id": "db623436-417d-4c85-9bf2-d7d6d1284ece",
   "metadata": {},
   "outputs": [
    {
     "data": {
      "text/plain": [
       "dict_keys(['album', 'artists', 'available_markets', 'disc_number', 'duration_ms', 'explicit', 'external_ids', 'external_urls', 'href', 'id', 'is_local', 'name', 'popularity', 'preview_url', 'track_number', 'type', 'uri'])"
      ]
     },
     "execution_count": 228,
     "metadata": {},
     "output_type": "execute_result"
    }
   ],
   "source": [
    "sp.track('3koCCeSaVUyrRo3N2gHrd8').keys()"
   ]
  },
  {
   "cell_type": "code",
   "execution_count": 230,
   "id": "607f8d60-eb29-4f56-bc37-fd2b18e66b4c",
   "metadata": {},
   "outputs": [
    {
     "data": {
      "text/plain": [
       "'https://p.scdn.co/mp3-preview/12ad0800feab7ef7620c36168b603842378ebacd?cid=3d24a9c30a8348af9da7088a04163f6b'"
      ]
     },
     "execution_count": 230,
     "metadata": {},
     "output_type": "execute_result"
    }
   ],
   "source": [
    "sp.track('3koCCeSaVUyrRo3N2gHrd8')['preview_url']"
   ]
  }
 ],
 "metadata": {
  "kernelspec": {
   "display_name": "Python 3 (ipykernel)",
   "language": "python",
   "name": "python3"
  },
  "language_info": {
   "codemirror_mode": {
    "name": "ipython",
    "version": 3
   },
   "file_extension": ".py",
   "mimetype": "text/x-python",
   "name": "python",
   "nbconvert_exporter": "python",
   "pygments_lexer": "ipython3",
   "version": "3.10.6"
  }
 },
 "nbformat": 4,
 "nbformat_minor": 5
}
